{
 "cells": [
  {
   "cell_type": "markdown",
   "id": "82d78246",
   "metadata": {
    "papermill": {
     "duration": 0.022501,
     "end_time": "2023-02-21T06:44:36.787971",
     "exception": false,
     "start_time": "2023-02-21T06:44:36.765470",
     "status": "completed"
    },
    "tags": []
   },
   "source": [
    "# Import Libraries"
   ]
  },
  {
   "cell_type": "code",
   "execution_count": 1,
   "id": "d2954d2f",
   "metadata": {
    "execution": {
     "iopub.execute_input": "2023-02-21T06:44:36.830870Z",
     "iopub.status.busy": "2023-02-21T06:44:36.829699Z",
     "iopub.status.idle": "2023-02-21T06:44:37.990196Z",
     "shell.execute_reply": "2023-02-21T06:44:37.989259Z"
    },
    "papermill": {
     "duration": 1.18417,
     "end_time": "2023-02-21T06:44:37.992765",
     "exception": false,
     "start_time": "2023-02-21T06:44:36.808595",
     "status": "completed"
    },
    "tags": []
   },
   "outputs": [],
   "source": [
    "import numpy as np\n",
    "import pandas as pd\n",
    "import seaborn as sns\n",
    "import matplotlib.pyplot as plt\n",
    "from sklearn import svm\n",
    "from sklearn.model_selection import train_test_split\n",
    "from sklearn.neighbors import DistanceMetric\n",
    "from math import radians"
   ]
  },
  {
   "cell_type": "markdown",
   "id": "4188a7df",
   "metadata": {
    "papermill": {
     "duration": 0.019723,
     "end_time": "2023-02-21T06:44:38.033043",
     "exception": false,
     "start_time": "2023-02-21T06:44:38.013320",
     "status": "completed"
    },
    "tags": []
   },
   "source": [
    "# Load Data"
   ]
  },
  {
   "cell_type": "markdown",
   "id": "56b54105",
   "metadata": {
    "papermill": {
     "duration": 0.025541,
     "end_time": "2023-02-21T06:44:38.078344",
     "exception": false,
     "start_time": "2023-02-21T06:44:38.052803",
     "status": "completed"
    },
    "tags": []
   },
   "source": [
    "### Data Source:\n",
    "https://www.kaggle.com/datasets/yasserh/uber-fares-dataset"
   ]
  },
  {
   "cell_type": "code",
   "execution_count": 2,
   "id": "5e7fb85c",
   "metadata": {
    "execution": {
     "iopub.execute_input": "2023-02-21T06:44:38.179274Z",
     "iopub.status.busy": "2023-02-21T06:44:38.178738Z",
     "iopub.status.idle": "2023-02-21T06:44:39.020228Z",
     "shell.execute_reply": "2023-02-21T06:44:39.019240Z"
    },
    "papermill": {
     "duration": 0.899739,
     "end_time": "2023-02-21T06:44:39.022685",
     "exception": false,
     "start_time": "2023-02-21T06:44:38.122946",
     "status": "completed"
    },
    "tags": []
   },
   "outputs": [],
   "source": [
    "fare_data = pd.read_csv('/kaggle/input/uber-fares-dataset/uber.csv')"
   ]
  },
  {
   "cell_type": "markdown",
   "id": "16a259ff",
   "metadata": {
    "papermill": {
     "duration": 0.019732,
     "end_time": "2023-02-21T06:44:39.062525",
     "exception": false,
     "start_time": "2023-02-21T06:44:39.042793",
     "status": "completed"
    },
    "tags": []
   },
   "source": [
    "Problem Statement:\n",
    "\n",
    "The project is about on world's largest taxi company Uber inc. In this project, we're looking to predict the fare for their future transactional cases. Uber delivers service to lakhs of customers daily. Now it becomes really important to manage their data properly to come up with new business ideas to get best results. Eventually, it becomes really important to estimate the fare prices accurately."
   ]
  },
  {
   "cell_type": "code",
   "execution_count": 3,
   "id": "6887de27",
   "metadata": {
    "execution": {
     "iopub.execute_input": "2023-02-21T06:44:39.103547Z",
     "iopub.status.busy": "2023-02-21T06:44:39.103195Z",
     "iopub.status.idle": "2023-02-21T06:44:39.142850Z",
     "shell.execute_reply": "2023-02-21T06:44:39.141619Z"
    },
    "papermill": {
     "duration": 0.0638,
     "end_time": "2023-02-21T06:44:39.146364",
     "exception": false,
     "start_time": "2023-02-21T06:44:39.082564",
     "status": "completed"
    },
    "tags": []
   },
   "outputs": [
    {
     "name": "stdout",
     "output_type": "stream",
     "text": [
      "<class 'pandas.core.frame.DataFrame'>\n",
      "RangeIndex: 200000 entries, 0 to 199999\n",
      "Data columns (total 9 columns):\n",
      " #   Column             Non-Null Count   Dtype  \n",
      "---  ------             --------------   -----  \n",
      " 0   Unnamed: 0         200000 non-null  int64  \n",
      " 1   key                200000 non-null  object \n",
      " 2   fare_amount        200000 non-null  float64\n",
      " 3   pickup_datetime    200000 non-null  object \n",
      " 4   pickup_longitude   200000 non-null  float64\n",
      " 5   pickup_latitude    200000 non-null  float64\n",
      " 6   dropoff_longitude  199999 non-null  float64\n",
      " 7   dropoff_latitude   199999 non-null  float64\n",
      " 8   passenger_count    200000 non-null  int64  \n",
      "dtypes: float64(5), int64(2), object(2)\n",
      "memory usage: 13.7+ MB\n"
     ]
    }
   ],
   "source": [
    "fare_data.info()"
   ]
  },
  {
   "cell_type": "code",
   "execution_count": 4,
   "id": "2bcf12e1",
   "metadata": {
    "execution": {
     "iopub.execute_input": "2023-02-21T06:44:39.191632Z",
     "iopub.status.busy": "2023-02-21T06:44:39.191287Z",
     "iopub.status.idle": "2023-02-21T06:44:39.211405Z",
     "shell.execute_reply": "2023-02-21T06:44:39.210026Z"
    },
    "papermill": {
     "duration": 0.044415,
     "end_time": "2023-02-21T06:44:39.214161",
     "exception": false,
     "start_time": "2023-02-21T06:44:39.169746",
     "status": "completed"
    },
    "tags": []
   },
   "outputs": [
    {
     "data": {
      "text/html": [
       "<div>\n",
       "<style scoped>\n",
       "    .dataframe tbody tr th:only-of-type {\n",
       "        vertical-align: middle;\n",
       "    }\n",
       "\n",
       "    .dataframe tbody tr th {\n",
       "        vertical-align: top;\n",
       "    }\n",
       "\n",
       "    .dataframe thead th {\n",
       "        text-align: right;\n",
       "    }\n",
       "</style>\n",
       "<table border=\"1\" class=\"dataframe\">\n",
       "  <thead>\n",
       "    <tr style=\"text-align: right;\">\n",
       "      <th></th>\n",
       "      <th>Unnamed: 0</th>\n",
       "      <th>key</th>\n",
       "      <th>fare_amount</th>\n",
       "      <th>pickup_datetime</th>\n",
       "      <th>pickup_longitude</th>\n",
       "      <th>pickup_latitude</th>\n",
       "      <th>dropoff_longitude</th>\n",
       "      <th>dropoff_latitude</th>\n",
       "      <th>passenger_count</th>\n",
       "    </tr>\n",
       "  </thead>\n",
       "  <tbody>\n",
       "    <tr>\n",
       "      <th>0</th>\n",
       "      <td>24238194</td>\n",
       "      <td>2015-05-07 19:52:06.0000003</td>\n",
       "      <td>7.5</td>\n",
       "      <td>2015-05-07 19:52:06 UTC</td>\n",
       "      <td>-73.999817</td>\n",
       "      <td>40.738354</td>\n",
       "      <td>-73.999512</td>\n",
       "      <td>40.723217</td>\n",
       "      <td>1</td>\n",
       "    </tr>\n",
       "    <tr>\n",
       "      <th>1</th>\n",
       "      <td>27835199</td>\n",
       "      <td>2009-07-17 20:04:56.0000002</td>\n",
       "      <td>7.7</td>\n",
       "      <td>2009-07-17 20:04:56 UTC</td>\n",
       "      <td>-73.994355</td>\n",
       "      <td>40.728225</td>\n",
       "      <td>-73.994710</td>\n",
       "      <td>40.750325</td>\n",
       "      <td>1</td>\n",
       "    </tr>\n",
       "    <tr>\n",
       "      <th>2</th>\n",
       "      <td>44984355</td>\n",
       "      <td>2009-08-24 21:45:00.00000061</td>\n",
       "      <td>12.9</td>\n",
       "      <td>2009-08-24 21:45:00 UTC</td>\n",
       "      <td>-74.005043</td>\n",
       "      <td>40.740770</td>\n",
       "      <td>-73.962565</td>\n",
       "      <td>40.772647</td>\n",
       "      <td>1</td>\n",
       "    </tr>\n",
       "    <tr>\n",
       "      <th>3</th>\n",
       "      <td>25894730</td>\n",
       "      <td>2009-06-26 08:22:21.0000001</td>\n",
       "      <td>5.3</td>\n",
       "      <td>2009-06-26 08:22:21 UTC</td>\n",
       "      <td>-73.976124</td>\n",
       "      <td>40.790844</td>\n",
       "      <td>-73.965316</td>\n",
       "      <td>40.803349</td>\n",
       "      <td>3</td>\n",
       "    </tr>\n",
       "    <tr>\n",
       "      <th>4</th>\n",
       "      <td>17610152</td>\n",
       "      <td>2014-08-28 17:47:00.000000188</td>\n",
       "      <td>16.0</td>\n",
       "      <td>2014-08-28 17:47:00 UTC</td>\n",
       "      <td>-73.925023</td>\n",
       "      <td>40.744085</td>\n",
       "      <td>-73.973082</td>\n",
       "      <td>40.761247</td>\n",
       "      <td>5</td>\n",
       "    </tr>\n",
       "  </tbody>\n",
       "</table>\n",
       "</div>"
      ],
      "text/plain": [
       "   Unnamed: 0                            key  fare_amount  \\\n",
       "0    24238194    2015-05-07 19:52:06.0000003          7.5   \n",
       "1    27835199    2009-07-17 20:04:56.0000002          7.7   \n",
       "2    44984355   2009-08-24 21:45:00.00000061         12.9   \n",
       "3    25894730    2009-06-26 08:22:21.0000001          5.3   \n",
       "4    17610152  2014-08-28 17:47:00.000000188         16.0   \n",
       "\n",
       "           pickup_datetime  pickup_longitude  pickup_latitude  \\\n",
       "0  2015-05-07 19:52:06 UTC        -73.999817        40.738354   \n",
       "1  2009-07-17 20:04:56 UTC        -73.994355        40.728225   \n",
       "2  2009-08-24 21:45:00 UTC        -74.005043        40.740770   \n",
       "3  2009-06-26 08:22:21 UTC        -73.976124        40.790844   \n",
       "4  2014-08-28 17:47:00 UTC        -73.925023        40.744085   \n",
       "\n",
       "   dropoff_longitude  dropoff_latitude  passenger_count  \n",
       "0         -73.999512         40.723217                1  \n",
       "1         -73.994710         40.750325                1  \n",
       "2         -73.962565         40.772647                1  \n",
       "3         -73.965316         40.803349                3  \n",
       "4         -73.973082         40.761247                5  "
      ]
     },
     "execution_count": 4,
     "metadata": {},
     "output_type": "execute_result"
    }
   ],
   "source": [
    "fare_data.head()"
   ]
  },
  {
   "cell_type": "markdown",
   "id": "e20c3ec3",
   "metadata": {
    "papermill": {
     "duration": 0.021514,
     "end_time": "2023-02-21T06:44:39.257290",
     "exception": false,
     "start_time": "2023-02-21T06:44:39.235776",
     "status": "completed"
    },
    "tags": []
   },
   "source": [
    "Only two column with missing data, i.e, dropoff_longitude and dropoff_latitude"
   ]
  },
  {
   "cell_type": "markdown",
   "id": "7cf06994",
   "metadata": {
    "papermill": {
     "duration": 0.021501,
     "end_time": "2023-02-21T06:44:39.300478",
     "exception": false,
     "start_time": "2023-02-21T06:44:39.278977",
     "status": "completed"
    },
    "tags": []
   },
   "source": [
    "Mix of numerical and categorical variables:\n",
    "- Numerical Variables:\n",
    "    - pickup_datetime\n",
    "    - pickup_latitude\n",
    "    - pickup_longitude\n",
    "    - dropoff_latitude\n",
    "    - dropoff_longitude\n",
    "- Categorical Variables:\n",
    "    - passanger_count"
   ]
  },
  {
   "cell_type": "markdown",
   "id": "d6727bfe",
   "metadata": {
    "papermill": {
     "duration": 0.02108,
     "end_time": "2023-02-21T06:44:39.342892",
     "exception": false,
     "start_time": "2023-02-21T06:44:39.321812",
     "status": "completed"
    },
    "tags": []
   },
   "source": [
    "Target variable is fare_amount"
   ]
  },
  {
   "cell_type": "code",
   "execution_count": 5,
   "id": "1178a78f",
   "metadata": {
    "execution": {
     "iopub.execute_input": "2023-02-21T06:44:39.386438Z",
     "iopub.status.busy": "2023-02-21T06:44:39.385759Z",
     "iopub.status.idle": "2023-02-21T06:44:39.390885Z",
     "shell.execute_reply": "2023-02-21T06:44:39.389944Z"
    },
    "papermill": {
     "duration": 0.029484,
     "end_time": "2023-02-21T06:44:39.392991",
     "exception": false,
     "start_time": "2023-02-21T06:44:39.363507",
     "status": "completed"
    },
    "tags": []
   },
   "outputs": [],
   "source": [
    "data = fare_data"
   ]
  },
  {
   "cell_type": "code",
   "execution_count": 6,
   "id": "7512e2b8",
   "metadata": {
    "execution": {
     "iopub.execute_input": "2023-02-21T06:44:39.435740Z",
     "iopub.status.busy": "2023-02-21T06:44:39.435430Z",
     "iopub.status.idle": "2023-02-21T06:44:39.579316Z",
     "shell.execute_reply": "2023-02-21T06:44:39.578112Z"
    },
    "papermill": {
     "duration": 0.167874,
     "end_time": "2023-02-21T06:44:39.582060",
     "exception": false,
     "start_time": "2023-02-21T06:44:39.414186",
     "status": "completed"
    },
    "tags": []
   },
   "outputs": [
    {
     "data": {
      "text/plain": [
       "Unnamed: 0           200000\n",
       "key                  200000\n",
       "fare_amount            1244\n",
       "pickup_datetime      196629\n",
       "pickup_longitude      71066\n",
       "pickup_latitude       83835\n",
       "dropoff_longitude     76894\n",
       "dropoff_latitude      90585\n",
       "passenger_count           8\n",
       "dtype: int64"
      ]
     },
     "execution_count": 6,
     "metadata": {},
     "output_type": "execute_result"
    }
   ],
   "source": [
    "data.nunique()"
   ]
  },
  {
   "cell_type": "code",
   "execution_count": 7,
   "id": "f3bd636e",
   "metadata": {
    "execution": {
     "iopub.execute_input": "2023-02-21T06:44:39.625531Z",
     "iopub.status.busy": "2023-02-21T06:44:39.624572Z",
     "iopub.status.idle": "2023-02-21T06:44:39.651331Z",
     "shell.execute_reply": "2023-02-21T06:44:39.649768Z"
    },
    "papermill": {
     "duration": 0.050246,
     "end_time": "2023-02-21T06:44:39.653534",
     "exception": false,
     "start_time": "2023-02-21T06:44:39.603288",
     "status": "completed"
    },
    "tags": []
   },
   "outputs": [
    {
     "name": "stdout",
     "output_type": "stream",
     "text": [
      "<class 'pandas.core.frame.DataFrame'>\n",
      "RangeIndex: 200000 entries, 0 to 199999\n",
      "Data columns (total 9 columns):\n",
      " #   Column             Non-Null Count   Dtype  \n",
      "---  ------             --------------   -----  \n",
      " 0   Unnamed: 0         200000 non-null  int64  \n",
      " 1   key                200000 non-null  object \n",
      " 2   fare_amount        200000 non-null  float64\n",
      " 3   pickup_datetime    200000 non-null  object \n",
      " 4   pickup_longitude   200000 non-null  float64\n",
      " 5   pickup_latitude    200000 non-null  float64\n",
      " 6   dropoff_longitude  199999 non-null  float64\n",
      " 7   dropoff_latitude   199999 non-null  float64\n",
      " 8   passenger_count    200000 non-null  int64  \n",
      "dtypes: float64(5), int64(2), object(2)\n",
      "memory usage: 13.7+ MB\n"
     ]
    }
   ],
   "source": [
    "data.info()"
   ]
  },
  {
   "cell_type": "markdown",
   "id": "32fb5798",
   "metadata": {
    "papermill": {
     "duration": 0.020116,
     "end_time": "2023-02-21T06:44:39.694149",
     "exception": false,
     "start_time": "2023-02-21T06:44:39.674033",
     "status": "completed"
    },
    "tags": []
   },
   "source": [
    "dropoff_longitude and dropoff_latitude have one missing row. We need to exclude this"
   ]
  },
  {
   "cell_type": "code",
   "execution_count": 8,
   "id": "9144d0ff",
   "metadata": {
    "execution": {
     "iopub.execute_input": "2023-02-21T06:44:39.737353Z",
     "iopub.status.busy": "2023-02-21T06:44:39.735868Z",
     "iopub.status.idle": "2023-02-21T06:44:39.877200Z",
     "shell.execute_reply": "2023-02-21T06:44:39.876032Z"
    },
    "papermill": {
     "duration": 0.165453,
     "end_time": "2023-02-21T06:44:39.879985",
     "exception": false,
     "start_time": "2023-02-21T06:44:39.714532",
     "status": "completed"
    },
    "tags": []
   },
   "outputs": [
    {
     "data": {
      "text/plain": [
       "Unnamed: 0           200000\n",
       "key                  200000\n",
       "fare_amount            1244\n",
       "pickup_datetime      196629\n",
       "pickup_longitude      71066\n",
       "pickup_latitude       83835\n",
       "dropoff_longitude     76894\n",
       "dropoff_latitude      90585\n",
       "passenger_count           8\n",
       "dtype: int64"
      ]
     },
     "execution_count": 8,
     "metadata": {},
     "output_type": "execute_result"
    }
   ],
   "source": [
    "data.nunique()"
   ]
  },
  {
   "cell_type": "code",
   "execution_count": 9,
   "id": "4ffda78e",
   "metadata": {
    "execution": {
     "iopub.execute_input": "2023-02-21T06:44:39.923630Z",
     "iopub.status.busy": "2023-02-21T06:44:39.923300Z",
     "iopub.status.idle": "2023-02-21T06:44:39.963345Z",
     "shell.execute_reply": "2023-02-21T06:44:39.962413Z"
    },
    "papermill": {
     "duration": 0.063804,
     "end_time": "2023-02-21T06:44:39.965835",
     "exception": false,
     "start_time": "2023-02-21T06:44:39.902031",
     "status": "completed"
    },
    "tags": []
   },
   "outputs": [],
   "source": [
    "# Dropping the columns 'Unnamed: 0' and 'key' as well as NA rows\n",
    "\n",
    "data = data.drop(['Unnamed: 0','key'],axis=1) \n",
    "data.dropna(axis=0,inplace=True)"
   ]
  },
  {
   "cell_type": "markdown",
   "id": "f9d2c787",
   "metadata": {
    "papermill": {
     "duration": 0.020181,
     "end_time": "2023-02-21T06:44:40.006829",
     "exception": false,
     "start_time": "2023-02-21T06:44:39.986648",
     "status": "completed"
    },
    "tags": []
   },
   "source": [
    "# Exploratory Data Analysis (EDA) and Data Pre-processing"
   ]
  },
  {
   "cell_type": "code",
   "execution_count": 10,
   "id": "da776d24",
   "metadata": {
    "execution": {
     "iopub.execute_input": "2023-02-21T06:44:40.048867Z",
     "iopub.status.busy": "2023-02-21T06:44:40.047989Z",
     "iopub.status.idle": "2023-02-21T06:44:40.117538Z",
     "shell.execute_reply": "2023-02-21T06:44:40.116443Z"
    },
    "papermill": {
     "duration": 0.093467,
     "end_time": "2023-02-21T06:44:40.120289",
     "exception": false,
     "start_time": "2023-02-21T06:44:40.026822",
     "status": "completed"
    },
    "tags": []
   },
   "outputs": [
    {
     "data": {
      "text/html": [
       "<div>\n",
       "<style scoped>\n",
       "    .dataframe tbody tr th:only-of-type {\n",
       "        vertical-align: middle;\n",
       "    }\n",
       "\n",
       "    .dataframe tbody tr th {\n",
       "        vertical-align: top;\n",
       "    }\n",
       "\n",
       "    .dataframe thead th {\n",
       "        text-align: right;\n",
       "    }\n",
       "</style>\n",
       "<table border=\"1\" class=\"dataframe\">\n",
       "  <thead>\n",
       "    <tr style=\"text-align: right;\">\n",
       "      <th></th>\n",
       "      <th>count</th>\n",
       "      <th>mean</th>\n",
       "      <th>std</th>\n",
       "      <th>min</th>\n",
       "      <th>25%</th>\n",
       "      <th>50%</th>\n",
       "      <th>75%</th>\n",
       "      <th>max</th>\n",
       "    </tr>\n",
       "  </thead>\n",
       "  <tbody>\n",
       "    <tr>\n",
       "      <th>fare_amount</th>\n",
       "      <td>199999.0</td>\n",
       "      <td>11.359892</td>\n",
       "      <td>9.901760</td>\n",
       "      <td>-52.000000</td>\n",
       "      <td>6.000000</td>\n",
       "      <td>8.500000</td>\n",
       "      <td>12.500000</td>\n",
       "      <td>499.000000</td>\n",
       "    </tr>\n",
       "    <tr>\n",
       "      <th>pickup_longitude</th>\n",
       "      <td>199999.0</td>\n",
       "      <td>-72.527631</td>\n",
       "      <td>11.437815</td>\n",
       "      <td>-1340.648410</td>\n",
       "      <td>-73.992065</td>\n",
       "      <td>-73.981823</td>\n",
       "      <td>-73.967154</td>\n",
       "      <td>57.418457</td>\n",
       "    </tr>\n",
       "    <tr>\n",
       "      <th>pickup_latitude</th>\n",
       "      <td>199999.0</td>\n",
       "      <td>39.935881</td>\n",
       "      <td>7.720558</td>\n",
       "      <td>-74.015515</td>\n",
       "      <td>40.734796</td>\n",
       "      <td>40.752592</td>\n",
       "      <td>40.767158</td>\n",
       "      <td>1644.421482</td>\n",
       "    </tr>\n",
       "    <tr>\n",
       "      <th>dropoff_longitude</th>\n",
       "      <td>199999.0</td>\n",
       "      <td>-72.525292</td>\n",
       "      <td>13.117408</td>\n",
       "      <td>-3356.666300</td>\n",
       "      <td>-73.991407</td>\n",
       "      <td>-73.980093</td>\n",
       "      <td>-73.963658</td>\n",
       "      <td>1153.572603</td>\n",
       "    </tr>\n",
       "    <tr>\n",
       "      <th>dropoff_latitude</th>\n",
       "      <td>199999.0</td>\n",
       "      <td>39.923890</td>\n",
       "      <td>6.794829</td>\n",
       "      <td>-881.985513</td>\n",
       "      <td>40.733823</td>\n",
       "      <td>40.753042</td>\n",
       "      <td>40.768001</td>\n",
       "      <td>872.697628</td>\n",
       "    </tr>\n",
       "    <tr>\n",
       "      <th>passenger_count</th>\n",
       "      <td>199999.0</td>\n",
       "      <td>1.684543</td>\n",
       "      <td>1.385995</td>\n",
       "      <td>0.000000</td>\n",
       "      <td>1.000000</td>\n",
       "      <td>1.000000</td>\n",
       "      <td>2.000000</td>\n",
       "      <td>208.000000</td>\n",
       "    </tr>\n",
       "  </tbody>\n",
       "</table>\n",
       "</div>"
      ],
      "text/plain": [
       "                      count       mean        std          min        25%  \\\n",
       "fare_amount        199999.0  11.359892   9.901760   -52.000000   6.000000   \n",
       "pickup_longitude   199999.0 -72.527631  11.437815 -1340.648410 -73.992065   \n",
       "pickup_latitude    199999.0  39.935881   7.720558   -74.015515  40.734796   \n",
       "dropoff_longitude  199999.0 -72.525292  13.117408 -3356.666300 -73.991407   \n",
       "dropoff_latitude   199999.0  39.923890   6.794829  -881.985513  40.733823   \n",
       "passenger_count    199999.0   1.684543   1.385995     0.000000   1.000000   \n",
       "\n",
       "                         50%        75%          max  \n",
       "fare_amount         8.500000  12.500000   499.000000  \n",
       "pickup_longitude  -73.981823 -73.967154    57.418457  \n",
       "pickup_latitude    40.752592  40.767158  1644.421482  \n",
       "dropoff_longitude -73.980093 -73.963658  1153.572603  \n",
       "dropoff_latitude   40.753042  40.768001   872.697628  \n",
       "passenger_count     1.000000   2.000000   208.000000  "
      ]
     },
     "execution_count": 10,
     "metadata": {},
     "output_type": "execute_result"
    }
   ],
   "source": [
    "data.describe().T"
   ]
  },
  {
   "cell_type": "markdown",
   "id": "468cfa85",
   "metadata": {
    "papermill": {
     "duration": 0.020312,
     "end_time": "2023-02-21T06:44:40.161541",
     "exception": false,
     "start_time": "2023-02-21T06:44:40.141229",
     "status": "completed"
    },
    "tags": []
   },
   "source": [
    "Possibility of some outliers in fare amount and passanger\n",
    "\n",
    "Outliers:\n",
    "- Fare Amount is between -52 to 499. The negative amount seems unrealistic. Base fare to be set at $2.5\n",
    "- Passanger count max is 208, which is also not possible. Max to be set at 5"
   ]
  },
  {
   "cell_type": "markdown",
   "id": "b2514880",
   "metadata": {
    "papermill": {
     "duration": 0.020387,
     "end_time": "2023-02-21T06:44:40.202191",
     "exception": false,
     "start_time": "2023-02-21T06:44:40.181804",
     "status": "completed"
    },
    "tags": []
   },
   "source": [
    "### Identifying Correlations"
   ]
  },
  {
   "cell_type": "code",
   "execution_count": 11,
   "id": "6a439ba1",
   "metadata": {
    "execution": {
     "iopub.execute_input": "2023-02-21T06:44:40.244646Z",
     "iopub.status.busy": "2023-02-21T06:44:40.243925Z",
     "iopub.status.idle": "2023-02-21T06:44:40.281955Z",
     "shell.execute_reply": "2023-02-21T06:44:40.280773Z"
    },
    "papermill": {
     "duration": 0.061686,
     "end_time": "2023-02-21T06:44:40.284345",
     "exception": false,
     "start_time": "2023-02-21T06:44:40.222659",
     "status": "completed"
    },
    "tags": []
   },
   "outputs": [
    {
     "data": {
      "text/html": [
       "<div>\n",
       "<style scoped>\n",
       "    .dataframe tbody tr th:only-of-type {\n",
       "        vertical-align: middle;\n",
       "    }\n",
       "\n",
       "    .dataframe tbody tr th {\n",
       "        vertical-align: top;\n",
       "    }\n",
       "\n",
       "    .dataframe thead th {\n",
       "        text-align: right;\n",
       "    }\n",
       "</style>\n",
       "<table border=\"1\" class=\"dataframe\">\n",
       "  <thead>\n",
       "    <tr style=\"text-align: right;\">\n",
       "      <th></th>\n",
       "      <th>fare_amount</th>\n",
       "      <th>pickup_longitude</th>\n",
       "      <th>pickup_latitude</th>\n",
       "      <th>dropoff_longitude</th>\n",
       "      <th>dropoff_latitude</th>\n",
       "      <th>passenger_count</th>\n",
       "    </tr>\n",
       "  </thead>\n",
       "  <tbody>\n",
       "    <tr>\n",
       "      <th>fare_amount</th>\n",
       "      <td>1.000000</td>\n",
       "      <td>0.010458</td>\n",
       "      <td>-0.008482</td>\n",
       "      <td>0.008986</td>\n",
       "      <td>-0.011014</td>\n",
       "      <td>0.010158</td>\n",
       "    </tr>\n",
       "    <tr>\n",
       "      <th>pickup_longitude</th>\n",
       "      <td>0.010458</td>\n",
       "      <td>1.000000</td>\n",
       "      <td>-0.816461</td>\n",
       "      <td>0.833026</td>\n",
       "      <td>-0.846324</td>\n",
       "      <td>-0.000415</td>\n",
       "    </tr>\n",
       "    <tr>\n",
       "      <th>pickup_latitude</th>\n",
       "      <td>-0.008482</td>\n",
       "      <td>-0.816461</td>\n",
       "      <td>1.000000</td>\n",
       "      <td>-0.774787</td>\n",
       "      <td>0.702367</td>\n",
       "      <td>-0.001559</td>\n",
       "    </tr>\n",
       "    <tr>\n",
       "      <th>dropoff_longitude</th>\n",
       "      <td>0.008986</td>\n",
       "      <td>0.833026</td>\n",
       "      <td>-0.774787</td>\n",
       "      <td>1.000000</td>\n",
       "      <td>-0.917010</td>\n",
       "      <td>0.000033</td>\n",
       "    </tr>\n",
       "    <tr>\n",
       "      <th>dropoff_latitude</th>\n",
       "      <td>-0.011014</td>\n",
       "      <td>-0.846324</td>\n",
       "      <td>0.702367</td>\n",
       "      <td>-0.917010</td>\n",
       "      <td>1.000000</td>\n",
       "      <td>-0.000659</td>\n",
       "    </tr>\n",
       "    <tr>\n",
       "      <th>passenger_count</th>\n",
       "      <td>0.010158</td>\n",
       "      <td>-0.000415</td>\n",
       "      <td>-0.001559</td>\n",
       "      <td>0.000033</td>\n",
       "      <td>-0.000659</td>\n",
       "      <td>1.000000</td>\n",
       "    </tr>\n",
       "  </tbody>\n",
       "</table>\n",
       "</div>"
      ],
      "text/plain": [
       "                   fare_amount  pickup_longitude  pickup_latitude  \\\n",
       "fare_amount           1.000000          0.010458        -0.008482   \n",
       "pickup_longitude      0.010458          1.000000        -0.816461   \n",
       "pickup_latitude      -0.008482         -0.816461         1.000000   \n",
       "dropoff_longitude     0.008986          0.833026        -0.774787   \n",
       "dropoff_latitude     -0.011014         -0.846324         0.702367   \n",
       "passenger_count       0.010158         -0.000415        -0.001559   \n",
       "\n",
       "                   dropoff_longitude  dropoff_latitude  passenger_count  \n",
       "fare_amount                 0.008986         -0.011014         0.010158  \n",
       "pickup_longitude            0.833026         -0.846324        -0.000415  \n",
       "pickup_latitude            -0.774787          0.702367        -0.001559  \n",
       "dropoff_longitude           1.000000         -0.917010         0.000033  \n",
       "dropoff_latitude           -0.917010          1.000000        -0.000659  \n",
       "passenger_count             0.000033         -0.000659         1.000000  "
      ]
     },
     "execution_count": 11,
     "metadata": {},
     "output_type": "execute_result"
    }
   ],
   "source": [
    "# Identify Correlation\n",
    "data.corr()"
   ]
  },
  {
   "cell_type": "code",
   "execution_count": 12,
   "id": "68f52a0d",
   "metadata": {
    "execution": {
     "iopub.execute_input": "2023-02-21T06:44:40.328303Z",
     "iopub.status.busy": "2023-02-21T06:44:40.326822Z",
     "iopub.status.idle": "2023-02-21T06:44:40.832086Z",
     "shell.execute_reply": "2023-02-21T06:44:40.831159Z"
    },
    "papermill": {
     "duration": 0.529145,
     "end_time": "2023-02-21T06:44:40.834330",
     "exception": false,
     "start_time": "2023-02-21T06:44:40.305185",
     "status": "completed"
    },
    "tags": []
   },
   "outputs": [
    {
     "data": {
      "text/plain": [
       "<AxesSubplot:>"
      ]
     },
     "execution_count": 12,
     "metadata": {},
     "output_type": "execute_result"
    },
    {
     "data": {
      "image/png": "[encoded data removed]",
      "text/plain": [
       "<Figure size 1080x720 with 2 Axes>"
      ]
     },
     "metadata": {
      "needs_background": "light"
     },
     "output_type": "display_data"
    }
   ],
   "source": [
    "# Plot the Correlation matrix\n",
    "plt.figure(figsize=(15,10))\n",
    "sns.heatmap(data.corr(), annot=True, linewidths=.5, vmin = -1, vmax = 1, fmt = '.2g')"
   ]
  },
  {
   "cell_type": "markdown",
   "id": "651f5166",
   "metadata": {
    "papermill": {
     "duration": 0.021284,
     "end_time": "2023-02-21T06:44:40.877458",
     "exception": false,
     "start_time": "2023-02-21T06:44:40.856174",
     "status": "completed"
    },
    "tags": []
   },
   "source": [
    "High correlation can be observed between the geo-spatial data points, which was expected. Therefore, there is no need to drop any of the independent variables"
   ]
  },
  {
   "cell_type": "code",
   "execution_count": 13,
   "id": "da4091e7",
   "metadata": {
    "execution": {
     "iopub.execute_input": "2023-02-21T06:44:40.921813Z",
     "iopub.status.busy": "2023-02-21T06:44:40.920833Z",
     "iopub.status.idle": "2023-02-21T06:44:40.925947Z",
     "shell.execute_reply": "2023-02-21T06:44:40.925075Z"
    },
    "papermill": {
     "duration": 0.029442,
     "end_time": "2023-02-21T06:44:40.928007",
     "exception": false,
     "start_time": "2023-02-21T06:44:40.898565",
     "status": "completed"
    },
    "tags": []
   },
   "outputs": [],
   "source": [
    "from math import *"
   ]
  },
  {
   "cell_type": "code",
   "execution_count": 14,
   "id": "69db2319",
   "metadata": {
    "execution": {
     "iopub.execute_input": "2023-02-21T06:44:40.973431Z",
     "iopub.status.busy": "2023-02-21T06:44:40.973102Z",
     "iopub.status.idle": "2023-02-21T06:44:40.979309Z",
     "shell.execute_reply": "2023-02-21T06:44:40.978452Z"
    },
    "papermill": {
     "duration": 0.031574,
     "end_time": "2023-02-21T06:44:40.981384",
     "exception": false,
     "start_time": "2023-02-21T06:44:40.949810",
     "status": "completed"
    },
    "tags": []
   },
   "outputs": [],
   "source": [
    "# Define formula to calculate haversine distance\n",
    "def distance(longitude1, latitude1, longitude2, latitude2):\n",
    "    travel_dist = []\n",
    "    \n",
    "    for pos in range(len(longitude1)):\n",
    "        long1,lati1,long2,lati2 = map(radians,[longitude1[pos],latitude1[pos],longitude2[pos],latitude2[pos]])\n",
    "        dist_long = long2 - long1\n",
    "        dist_lati = lati2 - lati1\n",
    "        a = sin(dist_lati/2)**2 + cos(lati1) * cos(lati2) * sin(dist_long/2)**2\n",
    "        c = 2 * asin(sqrt(a))*6371\n",
    "        travel_dist.append(c)\n",
    "       \n",
    "    return travel_dist"
   ]
  },
  {
   "cell_type": "code",
   "execution_count": 15,
   "id": "f4f6804f",
   "metadata": {
    "execution": {
     "iopub.execute_input": "2023-02-21T06:44:41.026616Z",
     "iopub.status.busy": "2023-02-21T06:44:41.025691Z",
     "iopub.status.idle": "2023-02-21T06:44:41.397118Z",
     "shell.execute_reply": "2023-02-21T06:44:41.396105Z"
    },
    "papermill": {
     "duration": 0.396629,
     "end_time": "2023-02-21T06:44:41.399623",
     "exception": false,
     "start_time": "2023-02-21T06:44:41.002994",
     "status": "completed"
    },
    "tags": []
   },
   "outputs": [],
   "source": [
    "# Calculate Haversine distance for each row and add distance in km as a new column\n",
    "data['distance_travelled'] = distance(data['pickup_longitude'].to_numpy(),\n",
    "                                                data['pickup_latitude'].to_numpy(),\n",
    "                                                data['dropoff_longitude'].to_numpy(),\n",
    "                                                data['dropoff_latitude'].to_numpy()\n",
    "                                              )"
   ]
  },
  {
   "cell_type": "code",
   "execution_count": 16,
   "id": "bb6e30ba",
   "metadata": {
    "execution": {
     "iopub.execute_input": "2023-02-21T06:44:41.446909Z",
     "iopub.status.busy": "2023-02-21T06:44:41.445965Z",
     "iopub.status.idle": "2023-02-21T06:44:41.467801Z",
     "shell.execute_reply": "2023-02-21T06:44:41.466617Z"
    },
    "papermill": {
     "duration": 0.04817,
     "end_time": "2023-02-21T06:44:41.471035",
     "exception": false,
     "start_time": "2023-02-21T06:44:41.422865",
     "status": "completed"
    },
    "tags": []
   },
   "outputs": [
    {
     "name": "stdout",
     "output_type": "stream",
     "text": [
      "<class 'pandas.core.frame.DataFrame'>\n",
      "Int64Index: 199999 entries, 0 to 199999\n",
      "Data columns (total 8 columns):\n",
      " #   Column              Non-Null Count   Dtype  \n",
      "---  ------              --------------   -----  \n",
      " 0   fare_amount         199999 non-null  float64\n",
      " 1   pickup_datetime     199999 non-null  object \n",
      " 2   pickup_longitude    199999 non-null  float64\n",
      " 3   pickup_latitude     199999 non-null  float64\n",
      " 4   dropoff_longitude   199999 non-null  float64\n",
      " 5   dropoff_latitude    199999 non-null  float64\n",
      " 6   passenger_count     199999 non-null  int64  \n",
      " 7   distance_travelled  199999 non-null  float64\n",
      "dtypes: float64(6), int64(1), object(1)\n",
      "memory usage: 13.7+ MB\n"
     ]
    }
   ],
   "source": [
    "data.info()"
   ]
  },
  {
   "cell_type": "code",
   "execution_count": 17,
   "id": "38edc6e3",
   "metadata": {
    "execution": {
     "iopub.execute_input": "2023-02-21T06:44:41.518418Z",
     "iopub.status.busy": "2023-02-21T06:44:41.518113Z",
     "iopub.status.idle": "2023-02-21T06:45:06.288434Z",
     "shell.execute_reply": "2023-02-21T06:45:06.287455Z"
    },
    "papermill": {
     "duration": 24.795855,
     "end_time": "2023-02-21T06:45:06.291221",
     "exception": false,
     "start_time": "2023-02-21T06:44:41.495366",
     "status": "completed"
    },
    "tags": []
   },
   "outputs": [],
   "source": [
    "# As we can see, pickup_datetime is being read as an object data type. However, we need to convert it into datetime data type\n",
    "data['pickup_datetime']  = pd.to_datetime(data['pickup_datetime'])"
   ]
  },
  {
   "cell_type": "code",
   "execution_count": 18,
   "id": "97eec48d",
   "metadata": {
    "execution": {
     "iopub.execute_input": "2023-02-21T06:45:06.363230Z",
     "iopub.status.busy": "2023-02-21T06:45:06.362800Z",
     "iopub.status.idle": "2023-02-21T06:45:06.386117Z",
     "shell.execute_reply": "2023-02-21T06:45:06.385074Z"
    },
    "papermill": {
     "duration": 0.061233,
     "end_time": "2023-02-21T06:45:06.388950",
     "exception": false,
     "start_time": "2023-02-21T06:45:06.327717",
     "status": "completed"
    },
    "tags": []
   },
   "outputs": [
    {
     "name": "stdout",
     "output_type": "stream",
     "text": [
      "<class 'pandas.core.frame.DataFrame'>\n",
      "Int64Index: 199999 entries, 0 to 199999\n",
      "Data columns (total 8 columns):\n",
      " #   Column              Non-Null Count   Dtype              \n",
      "---  ------              --------------   -----              \n",
      " 0   fare_amount         199999 non-null  float64            \n",
      " 1   pickup_datetime     199999 non-null  datetime64[ns, UTC]\n",
      " 2   pickup_longitude    199999 non-null  float64            \n",
      " 3   pickup_latitude     199999 non-null  float64            \n",
      " 4   dropoff_longitude   199999 non-null  float64            \n",
      " 5   dropoff_latitude    199999 non-null  float64            \n",
      " 6   passenger_count     199999 non-null  int64              \n",
      " 7   distance_travelled  199999 non-null  float64            \n",
      "dtypes: datetime64[ns, UTC](1), float64(6), int64(1)\n",
      "memory usage: 13.7 MB\n"
     ]
    }
   ],
   "source": [
    "data.info()"
   ]
  },
  {
   "cell_type": "code",
   "execution_count": 19,
   "id": "47d74f37",
   "metadata": {
    "execution": {
     "iopub.execute_input": "2023-02-21T06:45:06.460015Z",
     "iopub.status.busy": "2023-02-21T06:45:06.459634Z",
     "iopub.status.idle": "2023-02-21T06:45:06.468141Z",
     "shell.execute_reply": "2023-02-21T06:45:06.467276Z"
    },
    "papermill": {
     "duration": 0.044139,
     "end_time": "2023-02-21T06:45:06.470737",
     "exception": false,
     "start_time": "2023-02-21T06:45:06.426598",
     "status": "completed"
    },
    "tags": []
   },
   "outputs": [],
   "source": [
    "data['fare_per_km']=data['fare_amount']/data['distance_travelled']"
   ]
  },
  {
   "cell_type": "code",
   "execution_count": 20,
   "id": "fa4e2232",
   "metadata": {
    "execution": {
     "iopub.execute_input": "2023-02-21T06:45:06.536143Z",
     "iopub.status.busy": "2023-02-21T06:45:06.535759Z",
     "iopub.status.idle": "2023-02-21T06:45:06.578933Z",
     "shell.execute_reply": "2023-02-21T06:45:06.577889Z"
    },
    "papermill": {
     "duration": 0.078608,
     "end_time": "2023-02-21T06:45:06.581802",
     "exception": false,
     "start_time": "2023-02-21T06:45:06.503194",
     "status": "completed"
    },
    "tags": []
   },
   "outputs": [
    {
     "data": {
      "text/html": [
       "<div>\n",
       "<style scoped>\n",
       "    .dataframe tbody tr th:only-of-type {\n",
       "        vertical-align: middle;\n",
       "    }\n",
       "\n",
       "    .dataframe tbody tr th {\n",
       "        vertical-align: top;\n",
       "    }\n",
       "\n",
       "    .dataframe thead th {\n",
       "        text-align: right;\n",
       "    }\n",
       "</style>\n",
       "<table border=\"1\" class=\"dataframe\">\n",
       "  <thead>\n",
       "    <tr style=\"text-align: right;\">\n",
       "      <th></th>\n",
       "      <th>fare_amount</th>\n",
       "      <th>pickup_datetime</th>\n",
       "      <th>pickup_longitude</th>\n",
       "      <th>pickup_latitude</th>\n",
       "      <th>dropoff_longitude</th>\n",
       "      <th>dropoff_latitude</th>\n",
       "      <th>passenger_count</th>\n",
       "      <th>distance_travelled</th>\n",
       "      <th>fare_per_km</th>\n",
       "    </tr>\n",
       "  </thead>\n",
       "  <tbody>\n",
       "    <tr>\n",
       "      <th>0</th>\n",
       "      <td>7.5</td>\n",
       "      <td>2015-05-07 19:52:06+00:00</td>\n",
       "      <td>-73.999817</td>\n",
       "      <td>40.738354</td>\n",
       "      <td>-73.999512</td>\n",
       "      <td>40.723217</td>\n",
       "      <td>1</td>\n",
       "      <td>1.683323</td>\n",
       "      <td>4.455474</td>\n",
       "    </tr>\n",
       "    <tr>\n",
       "      <th>1</th>\n",
       "      <td>7.7</td>\n",
       "      <td>2009-07-17 20:04:56+00:00</td>\n",
       "      <td>-73.994355</td>\n",
       "      <td>40.728225</td>\n",
       "      <td>-73.994710</td>\n",
       "      <td>40.750325</td>\n",
       "      <td>1</td>\n",
       "      <td>2.457590</td>\n",
       "      <td>3.133151</td>\n",
       "    </tr>\n",
       "    <tr>\n",
       "      <th>2</th>\n",
       "      <td>12.9</td>\n",
       "      <td>2009-08-24 21:45:00+00:00</td>\n",
       "      <td>-74.005043</td>\n",
       "      <td>40.740770</td>\n",
       "      <td>-73.962565</td>\n",
       "      <td>40.772647</td>\n",
       "      <td>1</td>\n",
       "      <td>5.036377</td>\n",
       "      <td>2.561365</td>\n",
       "    </tr>\n",
       "    <tr>\n",
       "      <th>3</th>\n",
       "      <td>5.3</td>\n",
       "      <td>2009-06-26 08:22:21+00:00</td>\n",
       "      <td>-73.976124</td>\n",
       "      <td>40.790844</td>\n",
       "      <td>-73.965316</td>\n",
       "      <td>40.803349</td>\n",
       "      <td>3</td>\n",
       "      <td>1.661683</td>\n",
       "      <td>3.189536</td>\n",
       "    </tr>\n",
       "    <tr>\n",
       "      <th>4</th>\n",
       "      <td>16.0</td>\n",
       "      <td>2014-08-28 17:47:00+00:00</td>\n",
       "      <td>-73.925023</td>\n",
       "      <td>40.744085</td>\n",
       "      <td>-73.973082</td>\n",
       "      <td>40.761247</td>\n",
       "      <td>5</td>\n",
       "      <td>4.475450</td>\n",
       "      <td>3.575060</td>\n",
       "    </tr>\n",
       "    <tr>\n",
       "      <th>5</th>\n",
       "      <td>4.9</td>\n",
       "      <td>2011-02-12 02:27:09+00:00</td>\n",
       "      <td>-73.969019</td>\n",
       "      <td>40.755910</td>\n",
       "      <td>-73.969019</td>\n",
       "      <td>40.755910</td>\n",
       "      <td>1</td>\n",
       "      <td>0.000000</td>\n",
       "      <td>inf</td>\n",
       "    </tr>\n",
       "    <tr>\n",
       "      <th>6</th>\n",
       "      <td>24.5</td>\n",
       "      <td>2014-10-12 07:04:00+00:00</td>\n",
       "      <td>-73.961447</td>\n",
       "      <td>40.693965</td>\n",
       "      <td>-73.871195</td>\n",
       "      <td>40.774297</td>\n",
       "      <td>5</td>\n",
       "      <td>11.731015</td>\n",
       "      <td>2.088481</td>\n",
       "    </tr>\n",
       "    <tr>\n",
       "      <th>7</th>\n",
       "      <td>2.5</td>\n",
       "      <td>2012-12-11 13:52:00+00:00</td>\n",
       "      <td>0.000000</td>\n",
       "      <td>0.000000</td>\n",
       "      <td>0.000000</td>\n",
       "      <td>0.000000</td>\n",
       "      <td>1</td>\n",
       "      <td>0.000000</td>\n",
       "      <td>inf</td>\n",
       "    </tr>\n",
       "    <tr>\n",
       "      <th>8</th>\n",
       "      <td>9.7</td>\n",
       "      <td>2012-02-17 09:32:00+00:00</td>\n",
       "      <td>-73.975187</td>\n",
       "      <td>40.745767</td>\n",
       "      <td>-74.002720</td>\n",
       "      <td>40.743537</td>\n",
       "      <td>1</td>\n",
       "      <td>2.332711</td>\n",
       "      <td>4.158252</td>\n",
       "    </tr>\n",
       "    <tr>\n",
       "      <th>9</th>\n",
       "      <td>12.5</td>\n",
       "      <td>2012-03-29 19:06:00+00:00</td>\n",
       "      <td>-74.001065</td>\n",
       "      <td>40.741787</td>\n",
       "      <td>-73.963040</td>\n",
       "      <td>40.775012</td>\n",
       "      <td>1</td>\n",
       "      <td>4.889417</td>\n",
       "      <td>2.556542</td>\n",
       "    </tr>\n",
       "    <tr>\n",
       "      <th>10</th>\n",
       "      <td>6.5</td>\n",
       "      <td>2015-05-22 17:32:27+00:00</td>\n",
       "      <td>-73.974388</td>\n",
       "      <td>40.746952</td>\n",
       "      <td>-73.988586</td>\n",
       "      <td>40.729805</td>\n",
       "      <td>1</td>\n",
       "      <td>2.250858</td>\n",
       "      <td>2.887788</td>\n",
       "    </tr>\n",
       "    <tr>\n",
       "      <th>11</th>\n",
       "      <td>8.5</td>\n",
       "      <td>2011-05-23 22:15:00+00:00</td>\n",
       "      <td>0.000000</td>\n",
       "      <td>0.000000</td>\n",
       "      <td>0.000000</td>\n",
       "      <td>0.000000</td>\n",
       "      <td>1</td>\n",
       "      <td>0.000000</td>\n",
       "      <td>inf</td>\n",
       "    </tr>\n",
       "    <tr>\n",
       "      <th>12</th>\n",
       "      <td>3.3</td>\n",
       "      <td>2011-05-17 14:03:00+00:00</td>\n",
       "      <td>-73.966378</td>\n",
       "      <td>40.804440</td>\n",
       "      <td>-73.965890</td>\n",
       "      <td>40.807133</td>\n",
       "      <td>5</td>\n",
       "      <td>0.302252</td>\n",
       "      <td>10.918053</td>\n",
       "    </tr>\n",
       "    <tr>\n",
       "      <th>13</th>\n",
       "      <td>10.9</td>\n",
       "      <td>2011-06-25 11:19:00+00:00</td>\n",
       "      <td>-73.953352</td>\n",
       "      <td>40.767382</td>\n",
       "      <td>-73.972510</td>\n",
       "      <td>40.796137</td>\n",
       "      <td>1</td>\n",
       "      <td>3.581251</td>\n",
       "      <td>3.043629</td>\n",
       "    </tr>\n",
       "    <tr>\n",
       "      <th>14</th>\n",
       "      <td>6.9</td>\n",
       "      <td>2010-04-06 22:20:27+00:00</td>\n",
       "      <td>-73.973370</td>\n",
       "      <td>40.755193</td>\n",
       "      <td>-73.978265</td>\n",
       "      <td>40.766375</td>\n",
       "      <td>1</td>\n",
       "      <td>1.309950</td>\n",
       "      <td>5.267377</td>\n",
       "    </tr>\n",
       "    <tr>\n",
       "      <th>15</th>\n",
       "      <td>9.7</td>\n",
       "      <td>2012-02-21 09:33:00+00:00</td>\n",
       "      <td>-73.990718</td>\n",
       "      <td>40.751920</td>\n",
       "      <td>-73.973053</td>\n",
       "      <td>40.744230</td>\n",
       "      <td>2</td>\n",
       "      <td>1.716277</td>\n",
       "      <td>5.651767</td>\n",
       "    </tr>\n",
       "    <tr>\n",
       "      <th>16</th>\n",
       "      <td>4.9</td>\n",
       "      <td>2011-09-01 09:21:40+00:00</td>\n",
       "      <td>-73.988908</td>\n",
       "      <td>40.756982</td>\n",
       "      <td>-73.981246</td>\n",
       "      <td>40.760050</td>\n",
       "      <td>1</td>\n",
       "      <td>0.729966</td>\n",
       "      <td>6.712646</td>\n",
       "    </tr>\n",
       "    <tr>\n",
       "      <th>17</th>\n",
       "      <td>10.5</td>\n",
       "      <td>2011-03-19 23:58:27+00:00</td>\n",
       "      <td>-74.005665</td>\n",
       "      <td>40.741138</td>\n",
       "      <td>-73.977830</td>\n",
       "      <td>40.749338</td>\n",
       "      <td>2</td>\n",
       "      <td>2.515950</td>\n",
       "      <td>4.173374</td>\n",
       "    </tr>\n",
       "    <tr>\n",
       "      <th>18</th>\n",
       "      <td>12.0</td>\n",
       "      <td>2015-03-25 08:58:35+00:00</td>\n",
       "      <td>-73.962532</td>\n",
       "      <td>40.767189</td>\n",
       "      <td>-73.974457</td>\n",
       "      <td>40.753860</td>\n",
       "      <td>1</td>\n",
       "      <td>1.790319</td>\n",
       "      <td>6.702715</td>\n",
       "    </tr>\n",
       "    <tr>\n",
       "      <th>19</th>\n",
       "      <td>4.9</td>\n",
       "      <td>2009-08-08 00:20:00+00:00</td>\n",
       "      <td>-73.992075</td>\n",
       "      <td>40.719633</td>\n",
       "      <td>-73.985323</td>\n",
       "      <td>40.727405</td>\n",
       "      <td>1</td>\n",
       "      <td>1.034704</td>\n",
       "      <td>4.735656</td>\n",
       "    </tr>\n",
       "    <tr>\n",
       "      <th>20</th>\n",
       "      <td>10.5</td>\n",
       "      <td>2014-02-18 14:26:00+00:00</td>\n",
       "      <td>-73.980022</td>\n",
       "      <td>40.745990</td>\n",
       "      <td>-74.003432</td>\n",
       "      <td>40.759667</td>\n",
       "      <td>1</td>\n",
       "      <td>2.490244</td>\n",
       "      <td>4.216455</td>\n",
       "    </tr>\n",
       "    <tr>\n",
       "      <th>21</th>\n",
       "      <td>5.0</td>\n",
       "      <td>2015-03-03 23:15:03+00:00</td>\n",
       "      <td>-73.989189</td>\n",
       "      <td>40.729141</td>\n",
       "      <td>-73.987282</td>\n",
       "      <td>40.720634</td>\n",
       "      <td>2</td>\n",
       "      <td>0.959469</td>\n",
       "      <td>5.211217</td>\n",
       "    </tr>\n",
       "    <tr>\n",
       "      <th>22</th>\n",
       "      <td>4.1</td>\n",
       "      <td>2009-11-26 02:58:00+00:00</td>\n",
       "      <td>-74.010798</td>\n",
       "      <td>40.726085</td>\n",
       "      <td>-74.009767</td>\n",
       "      <td>40.737402</td>\n",
       "      <td>2</td>\n",
       "      <td>1.261388</td>\n",
       "      <td>3.250388</td>\n",
       "    </tr>\n",
       "    <tr>\n",
       "      <th>23</th>\n",
       "      <td>7.7</td>\n",
       "      <td>2010-09-04 16:12:00+00:00</td>\n",
       "      <td>-73.994300</td>\n",
       "      <td>40.739512</td>\n",
       "      <td>-73.988070</td>\n",
       "      <td>40.724482</td>\n",
       "      <td>2</td>\n",
       "      <td>1.751763</td>\n",
       "      <td>4.395573</td>\n",
       "    </tr>\n",
       "    <tr>\n",
       "      <th>24</th>\n",
       "      <td>12.9</td>\n",
       "      <td>2010-05-12 22:32:00+00:00</td>\n",
       "      <td>-73.972987</td>\n",
       "      <td>40.764040</td>\n",
       "      <td>-74.007820</td>\n",
       "      <td>40.714993</td>\n",
       "      <td>5</td>\n",
       "      <td>6.193236</td>\n",
       "      <td>2.082918</td>\n",
       "    </tr>\n",
       "    <tr>\n",
       "      <th>25</th>\n",
       "      <td>9.5</td>\n",
       "      <td>2009-02-12 17:52:18+00:00</td>\n",
       "      <td>-73.986059</td>\n",
       "      <td>40.757159</td>\n",
       "      <td>-73.976130</td>\n",
       "      <td>40.780589</td>\n",
       "      <td>1</td>\n",
       "      <td>2.736189</td>\n",
       "      <td>3.471983</td>\n",
       "    </tr>\n",
       "    <tr>\n",
       "      <th>26</th>\n",
       "      <td>5.0</td>\n",
       "      <td>2014-01-21 06:55:00+00:00</td>\n",
       "      <td>-73.957802</td>\n",
       "      <td>40.776372</td>\n",
       "      <td>-73.957422</td>\n",
       "      <td>40.782870</td>\n",
       "      <td>1</td>\n",
       "      <td>0.723253</td>\n",
       "      <td>6.913213</td>\n",
       "    </tr>\n",
       "    <tr>\n",
       "      <th>27</th>\n",
       "      <td>12.0</td>\n",
       "      <td>2012-11-21 17:37:19+00:00</td>\n",
       "      <td>-73.993909</td>\n",
       "      <td>40.741551</td>\n",
       "      <td>-73.987874</td>\n",
       "      <td>40.770232</td>\n",
       "      <td>1</td>\n",
       "      <td>3.229439</td>\n",
       "      <td>3.715816</td>\n",
       "    </tr>\n",
       "    <tr>\n",
       "      <th>28</th>\n",
       "      <td>4.9</td>\n",
       "      <td>2009-05-06 20:06:23+00:00</td>\n",
       "      <td>-73.977780</td>\n",
       "      <td>40.763656</td>\n",
       "      <td>-73.989486</td>\n",
       "      <td>40.772966</td>\n",
       "      <td>1</td>\n",
       "      <td>1.429515</td>\n",
       "      <td>3.427735</td>\n",
       "    </tr>\n",
       "    <tr>\n",
       "      <th>29</th>\n",
       "      <td>7.3</td>\n",
       "      <td>2011-12-24 02:52:00+00:00</td>\n",
       "      <td>-73.971075</td>\n",
       "      <td>40.787833</td>\n",
       "      <td>-73.944957</td>\n",
       "      <td>40.784302</td>\n",
       "      <td>5</td>\n",
       "      <td>2.233696</td>\n",
       "      <td>3.268126</td>\n",
       "    </tr>\n",
       "    <tr>\n",
       "      <th>30</th>\n",
       "      <td>25.7</td>\n",
       "      <td>2011-05-21 09:00:00+00:00</td>\n",
       "      <td>-73.944815</td>\n",
       "      <td>40.834367</td>\n",
       "      <td>-73.989332</td>\n",
       "      <td>40.721920</td>\n",
       "      <td>4</td>\n",
       "      <td>13.053312</td>\n",
       "      <td>1.968849</td>\n",
       "    </tr>\n",
       "    <tr>\n",
       "      <th>31</th>\n",
       "      <td>7.7</td>\n",
       "      <td>2009-02-28 15:54:57+00:00</td>\n",
       "      <td>-74.004184</td>\n",
       "      <td>40.712975</td>\n",
       "      <td>-73.988385</td>\n",
       "      <td>40.725102</td>\n",
       "      <td>1</td>\n",
       "      <td>1.895047</td>\n",
       "      <td>4.063225</td>\n",
       "    </tr>\n",
       "    <tr>\n",
       "      <th>32</th>\n",
       "      <td>10.5</td>\n",
       "      <td>2013-02-11 19:09:00+00:00</td>\n",
       "      <td>-73.982085</td>\n",
       "      <td>40.771387</td>\n",
       "      <td>-73.959610</td>\n",
       "      <td>40.769445</td>\n",
       "      <td>1</td>\n",
       "      <td>1.904933</td>\n",
       "      <td>5.512006</td>\n",
       "    </tr>\n",
       "    <tr>\n",
       "      <th>33</th>\n",
       "      <td>11.0</td>\n",
       "      <td>2013-09-10 20:50:25+00:00</td>\n",
       "      <td>-73.991186</td>\n",
       "      <td>40.741393</td>\n",
       "      <td>-74.009710</td>\n",
       "      <td>40.716455</td>\n",
       "      <td>2</td>\n",
       "      <td>3.182113</td>\n",
       "      <td>3.456822</td>\n",
       "    </tr>\n",
       "    <tr>\n",
       "      <th>34</th>\n",
       "      <td>39.5</td>\n",
       "      <td>2014-06-04 06:49:00+00:00</td>\n",
       "      <td>-73.788080</td>\n",
       "      <td>40.642187</td>\n",
       "      <td>-73.865042</td>\n",
       "      <td>40.725997</td>\n",
       "      <td>4</td>\n",
       "      <td>11.356141</td>\n",
       "      <td>3.478294</td>\n",
       "    </tr>\n",
       "    <tr>\n",
       "      <th>35</th>\n",
       "      <td>8.1</td>\n",
       "      <td>2009-06-05 05:35:00+00:00</td>\n",
       "      <td>-73.988690</td>\n",
       "      <td>40.751273</td>\n",
       "      <td>-73.958810</td>\n",
       "      <td>40.764643</td>\n",
       "      <td>3</td>\n",
       "      <td>2.923020</td>\n",
       "      <td>2.771107</td>\n",
       "    </tr>\n",
       "    <tr>\n",
       "      <th>36</th>\n",
       "      <td>5.7</td>\n",
       "      <td>2011-02-19 16:31:00+00:00</td>\n",
       "      <td>-74.010863</td>\n",
       "      <td>40.710813</td>\n",
       "      <td>-74.001205</td>\n",
       "      <td>40.718745</td>\n",
       "      <td>1</td>\n",
       "      <td>1.200212</td>\n",
       "      <td>4.749160</td>\n",
       "    </tr>\n",
       "    <tr>\n",
       "      <th>37</th>\n",
       "      <td>6.9</td>\n",
       "      <td>2011-08-31 19:47:00+00:00</td>\n",
       "      <td>-73.968697</td>\n",
       "      <td>40.754998</td>\n",
       "      <td>-73.987302</td>\n",
       "      <td>40.735940</td>\n",
       "      <td>1</td>\n",
       "      <td>2.635787</td>\n",
       "      <td>2.617814</td>\n",
       "    </tr>\n",
       "    <tr>\n",
       "      <th>38</th>\n",
       "      <td>7.7</td>\n",
       "      <td>2010-05-18 21:28:00+00:00</td>\n",
       "      <td>-73.968370</td>\n",
       "      <td>40.759005</td>\n",
       "      <td>-73.979105</td>\n",
       "      <td>40.777570</td>\n",
       "      <td>3</td>\n",
       "      <td>2.253611</td>\n",
       "      <td>3.416739</td>\n",
       "    </tr>\n",
       "    <tr>\n",
       "      <th>39</th>\n",
       "      <td>29.0</td>\n",
       "      <td>2014-02-13 17:57:00+00:00</td>\n",
       "      <td>-73.992600</td>\n",
       "      <td>40.753172</td>\n",
       "      <td>-73.908508</td>\n",
       "      <td>40.816192</td>\n",
       "      <td>1</td>\n",
       "      <td>9.961496</td>\n",
       "      <td>2.911209</td>\n",
       "    </tr>\n",
       "    <tr>\n",
       "      <th>40</th>\n",
       "      <td>15.7</td>\n",
       "      <td>2010-04-01 14:42:00+00:00</td>\n",
       "      <td>-73.973360</td>\n",
       "      <td>40.786952</td>\n",
       "      <td>-73.972810</td>\n",
       "      <td>40.743548</td>\n",
       "      <td>1</td>\n",
       "      <td>4.826527</td>\n",
       "      <td>3.252857</td>\n",
       "    </tr>\n",
       "    <tr>\n",
       "      <th>41</th>\n",
       "      <td>9.0</td>\n",
       "      <td>2014-04-02 14:58:32+00:00</td>\n",
       "      <td>-73.970164</td>\n",
       "      <td>40.765016</td>\n",
       "      <td>-73.962801</td>\n",
       "      <td>40.774780</td>\n",
       "      <td>1</td>\n",
       "      <td>1.250291</td>\n",
       "      <td>7.198324</td>\n",
       "    </tr>\n",
       "    <tr>\n",
       "      <th>42</th>\n",
       "      <td>4.9</td>\n",
       "      <td>2011-02-01 15:25:03+00:00</td>\n",
       "      <td>-73.987139</td>\n",
       "      <td>40.753038</td>\n",
       "      <td>-73.977794</td>\n",
       "      <td>40.751834</td>\n",
       "      <td>1</td>\n",
       "      <td>0.798473</td>\n",
       "      <td>6.136712</td>\n",
       "    </tr>\n",
       "    <tr>\n",
       "      <th>43</th>\n",
       "      <td>5.4</td>\n",
       "      <td>2009-01-10 22:43:36+00:00</td>\n",
       "      <td>-73.994222</td>\n",
       "      <td>40.751229</td>\n",
       "      <td>-73.998331</td>\n",
       "      <td>40.744342</td>\n",
       "      <td>1</td>\n",
       "      <td>0.840395</td>\n",
       "      <td>6.425550</td>\n",
       "    </tr>\n",
       "    <tr>\n",
       "      <th>44</th>\n",
       "      <td>3.3</td>\n",
       "      <td>2012-07-12 00:59:02+00:00</td>\n",
       "      <td>-73.982371</td>\n",
       "      <td>40.765501</td>\n",
       "      <td>-73.985248</td>\n",
       "      <td>40.762808</td>\n",
       "      <td>1</td>\n",
       "      <td>0.385199</td>\n",
       "      <td>8.567007</td>\n",
       "    </tr>\n",
       "    <tr>\n",
       "      <th>45</th>\n",
       "      <td>8.9</td>\n",
       "      <td>2009-02-19 08:28:42+00:00</td>\n",
       "      <td>-73.977137</td>\n",
       "      <td>40.779272</td>\n",
       "      <td>-73.970457</td>\n",
       "      <td>40.757972</td>\n",
       "      <td>1</td>\n",
       "      <td>2.434343</td>\n",
       "      <td>3.656018</td>\n",
       "    </tr>\n",
       "    <tr>\n",
       "      <th>46</th>\n",
       "      <td>17.0</td>\n",
       "      <td>2014-01-16 14:58:09+00:00</td>\n",
       "      <td>-73.993900</td>\n",
       "      <td>40.751714</td>\n",
       "      <td>-73.958575</td>\n",
       "      <td>40.760390</td>\n",
       "      <td>1</td>\n",
       "      <td>3.127905</td>\n",
       "      <td>5.434947</td>\n",
       "    </tr>\n",
       "    <tr>\n",
       "      <th>47</th>\n",
       "      <td>12.0</td>\n",
       "      <td>2015-01-04 09:17:47+00:00</td>\n",
       "      <td>-73.979523</td>\n",
       "      <td>40.727310</td>\n",
       "      <td>-73.984879</td>\n",
       "      <td>40.760651</td>\n",
       "      <td>1</td>\n",
       "      <td>3.734646</td>\n",
       "      <td>3.213156</td>\n",
       "    </tr>\n",
       "    <tr>\n",
       "      <th>48</th>\n",
       "      <td>56.8</td>\n",
       "      <td>2013-01-03 22:24:41+00:00</td>\n",
       "      <td>-73.993498</td>\n",
       "      <td>40.764686</td>\n",
       "      <td>-73.993498</td>\n",
       "      <td>40.764686</td>\n",
       "      <td>1</td>\n",
       "      <td>0.000000</td>\n",
       "      <td>inf</td>\n",
       "    </tr>\n",
       "    <tr>\n",
       "      <th>49</th>\n",
       "      <td>13.5</td>\n",
       "      <td>2013-05-23 10:57:00+00:00</td>\n",
       "      <td>-73.962043</td>\n",
       "      <td>40.805372</td>\n",
       "      <td>-73.988447</td>\n",
       "      <td>40.770140</td>\n",
       "      <td>1</td>\n",
       "      <td>4.504354</td>\n",
       "      <td>2.997100</td>\n",
       "    </tr>\n",
       "  </tbody>\n",
       "</table>\n",
       "</div>"
      ],
      "text/plain": [
       "    fare_amount           pickup_datetime  pickup_longitude  pickup_latitude  \\\n",
       "0           7.5 2015-05-07 19:52:06+00:00        -73.999817        40.738354   \n",
       "1           7.7 2009-07-17 20:04:56+00:00        -73.994355        40.728225   \n",
       "2          12.9 2009-08-24 21:45:00+00:00        -74.005043        40.740770   \n",
       "3           5.3 2009-06-26 08:22:21+00:00        -73.976124        40.790844   \n",
       "4          16.0 2014-08-28 17:47:00+00:00        -73.925023        40.744085   \n",
       "5           4.9 2011-02-12 02:27:09+00:00        -73.969019        40.755910   \n",
       "6          24.5 2014-10-12 07:04:00+00:00        -73.961447        40.693965   \n",
       "7           2.5 2012-12-11 13:52:00+00:00          0.000000         0.000000   \n",
       "8           9.7 2012-02-17 09:32:00+00:00        -73.975187        40.745767   \n",
       "9          12.5 2012-03-29 19:06:00+00:00        -74.001065        40.741787   \n",
       "10          6.5 2015-05-22 17:32:27+00:00        -73.974388        40.746952   \n",
       "11          8.5 2011-05-23 22:15:00+00:00          0.000000         0.000000   \n",
       "12          3.3 2011-05-17 14:03:00+00:00        -73.966378        40.804440   \n",
       "13         10.9 2011-06-25 11:19:00+00:00        -73.953352        40.767382   \n",
       "14          6.9 2010-04-06 22:20:27+00:00        -73.973370        40.755193   \n",
       "15          9.7 2012-02-21 09:33:00+00:00        -73.990718        40.751920   \n",
       "16          4.9 2011-09-01 09:21:40+00:00        -73.988908        40.756982   \n",
       "17         10.5 2011-03-19 23:58:27+00:00        -74.005665        40.741138   \n",
       "18         12.0 2015-03-25 08:58:35+00:00        -73.962532        40.767189   \n",
       "19          4.9 2009-08-08 00:20:00+00:00        -73.992075        40.719633   \n",
       "20         10.5 2014-02-18 14:26:00+00:00        -73.980022        40.745990   \n",
       "21          5.0 2015-03-03 23:15:03+00:00        -73.989189        40.729141   \n",
       "22          4.1 2009-11-26 02:58:00+00:00        -74.010798        40.726085   \n",
       "23          7.7 2010-09-04 16:12:00+00:00        -73.994300        40.739512   \n",
       "24         12.9 2010-05-12 22:32:00+00:00        -73.972987        40.764040   \n",
       "25          9.5 2009-02-12 17:52:18+00:00        -73.986059        40.757159   \n",
       "26          5.0 2014-01-21 06:55:00+00:00        -73.957802        40.776372   \n",
       "27         12.0 2012-11-21 17:37:19+00:00        -73.993909        40.741551   \n",
       "28          4.9 2009-05-06 20:06:23+00:00        -73.977780        40.763656   \n",
       "29          7.3 2011-12-24 02:52:00+00:00        -73.971075        40.787833   \n",
       "30         25.7 2011-05-21 09:00:00+00:00        -73.944815        40.834367   \n",
       "31          7.7 2009-02-28 15:54:57+00:00        -74.004184        40.712975   \n",
       "32         10.5 2013-02-11 19:09:00+00:00        -73.982085        40.771387   \n",
       "33         11.0 2013-09-10 20:50:25+00:00        -73.991186        40.741393   \n",
       "34         39.5 2014-06-04 06:49:00+00:00        -73.788080        40.642187   \n",
       "35          8.1 2009-06-05 05:35:00+00:00        -73.988690        40.751273   \n",
       "36          5.7 2011-02-19 16:31:00+00:00        -74.010863        40.710813   \n",
       "37          6.9 2011-08-31 19:47:00+00:00        -73.968697        40.754998   \n",
       "38          7.7 2010-05-18 21:28:00+00:00        -73.968370        40.759005   \n",
       "39         29.0 2014-02-13 17:57:00+00:00        -73.992600        40.753172   \n",
       "40         15.7 2010-04-01 14:42:00+00:00        -73.973360        40.786952   \n",
       "41          9.0 2014-04-02 14:58:32+00:00        -73.970164        40.765016   \n",
       "42          4.9 2011-02-01 15:25:03+00:00        -73.987139        40.753038   \n",
       "43          5.4 2009-01-10 22:43:36+00:00        -73.994222        40.751229   \n",
       "44          3.3 2012-07-12 00:59:02+00:00        -73.982371        40.765501   \n",
       "45          8.9 2009-02-19 08:28:42+00:00        -73.977137        40.779272   \n",
       "46         17.0 2014-01-16 14:58:09+00:00        -73.993900        40.751714   \n",
       "47         12.0 2015-01-04 09:17:47+00:00        -73.979523        40.727310   \n",
       "48         56.8 2013-01-03 22:24:41+00:00        -73.993498        40.764686   \n",
       "49         13.5 2013-05-23 10:57:00+00:00        -73.962043        40.805372   \n",
       "\n",
       "    dropoff_longitude  dropoff_latitude  passenger_count  distance_travelled  \\\n",
       "0          -73.999512         40.723217                1            1.683323   \n",
       "1          -73.994710         40.750325                1            2.457590   \n",
       "2          -73.962565         40.772647                1            5.036377   \n",
       "3          -73.965316         40.803349                3            1.661683   \n",
       "4          -73.973082         40.761247                5            4.475450   \n",
       "5          -73.969019         40.755910                1            0.000000   \n",
       "6          -73.871195         40.774297                5           11.731015   \n",
       "7            0.000000          0.000000                1            0.000000   \n",
       "8          -74.002720         40.743537                1            2.332711   \n",
       "9          -73.963040         40.775012                1            4.889417   \n",
       "10         -73.988586         40.729805                1            2.250858   \n",
       "11           0.000000          0.000000                1            0.000000   \n",
       "12         -73.965890         40.807133                5            0.302252   \n",
       "13         -73.972510         40.796137                1            3.581251   \n",
       "14         -73.978265         40.766375                1            1.309950   \n",
       "15         -73.973053         40.744230                2            1.716277   \n",
       "16         -73.981246         40.760050                1            0.729966   \n",
       "17         -73.977830         40.749338                2            2.515950   \n",
       "18         -73.974457         40.753860                1            1.790319   \n",
       "19         -73.985323         40.727405                1            1.034704   \n",
       "20         -74.003432         40.759667                1            2.490244   \n",
       "21         -73.987282         40.720634                2            0.959469   \n",
       "22         -74.009767         40.737402                2            1.261388   \n",
       "23         -73.988070         40.724482                2            1.751763   \n",
       "24         -74.007820         40.714993                5            6.193236   \n",
       "25         -73.976130         40.780589                1            2.736189   \n",
       "26         -73.957422         40.782870                1            0.723253   \n",
       "27         -73.987874         40.770232                1            3.229439   \n",
       "28         -73.989486         40.772966                1            1.429515   \n",
       "29         -73.944957         40.784302                5            2.233696   \n",
       "30         -73.989332         40.721920                4           13.053312   \n",
       "31         -73.988385         40.725102                1            1.895047   \n",
       "32         -73.959610         40.769445                1            1.904933   \n",
       "33         -74.009710         40.716455                2            3.182113   \n",
       "34         -73.865042         40.725997                4           11.356141   \n",
       "35         -73.958810         40.764643                3            2.923020   \n",
       "36         -74.001205         40.718745                1            1.200212   \n",
       "37         -73.987302         40.735940                1            2.635787   \n",
       "38         -73.979105         40.777570                3            2.253611   \n",
       "39         -73.908508         40.816192                1            9.961496   \n",
       "40         -73.972810         40.743548                1            4.826527   \n",
       "41         -73.962801         40.774780                1            1.250291   \n",
       "42         -73.977794         40.751834                1            0.798473   \n",
       "43         -73.998331         40.744342                1            0.840395   \n",
       "44         -73.985248         40.762808                1            0.385199   \n",
       "45         -73.970457         40.757972                1            2.434343   \n",
       "46         -73.958575         40.760390                1            3.127905   \n",
       "47         -73.984879         40.760651                1            3.734646   \n",
       "48         -73.993498         40.764686                1            0.000000   \n",
       "49         -73.988447         40.770140                1            4.504354   \n",
       "\n",
       "    fare_per_km  \n",
       "0      4.455474  \n",
       "1      3.133151  \n",
       "2      2.561365  \n",
       "3      3.189536  \n",
       "4      3.575060  \n",
       "5           inf  \n",
       "6      2.088481  \n",
       "7           inf  \n",
       "8      4.158252  \n",
       "9      2.556542  \n",
       "10     2.887788  \n",
       "11          inf  \n",
       "12    10.918053  \n",
       "13     3.043629  \n",
       "14     5.267377  \n",
       "15     5.651767  \n",
       "16     6.712646  \n",
       "17     4.173374  \n",
       "18     6.702715  \n",
       "19     4.735656  \n",
       "20     4.216455  \n",
       "21     5.211217  \n",
       "22     3.250388  \n",
       "23     4.395573  \n",
       "24     2.082918  \n",
       "25     3.471983  \n",
       "26     6.913213  \n",
       "27     3.715816  \n",
       "28     3.427735  \n",
       "29     3.268126  \n",
       "30     1.968849  \n",
       "31     4.063225  \n",
       "32     5.512006  \n",
       "33     3.456822  \n",
       "34     3.478294  \n",
       "35     2.771107  \n",
       "36     4.749160  \n",
       "37     2.617814  \n",
       "38     3.416739  \n",
       "39     2.911209  \n",
       "40     3.252857  \n",
       "41     7.198324  \n",
       "42     6.136712  \n",
       "43     6.425550  \n",
       "44     8.567007  \n",
       "45     3.656018  \n",
       "46     5.434947  \n",
       "47     3.213156  \n",
       "48          inf  \n",
       "49     2.997100  "
      ]
     },
     "execution_count": 20,
     "metadata": {},
     "output_type": "execute_result"
    }
   ],
   "source": [
    "data.head(50)"
   ]
  },
  {
   "cell_type": "code",
   "execution_count": 21,
   "id": "937a27eb",
   "metadata": {
    "execution": {
     "iopub.execute_input": "2023-02-21T06:45:06.657305Z",
     "iopub.status.busy": "2023-02-21T06:45:06.656883Z",
     "iopub.status.idle": "2023-02-21T06:45:06.668340Z",
     "shell.execute_reply": "2023-02-21T06:45:06.667442Z"
    },
    "papermill": {
     "duration": 0.053375,
     "end_time": "2023-02-21T06:45:06.671947",
     "exception": false,
     "start_time": "2023-02-21T06:45:06.618572",
     "status": "completed"
    },
    "tags": []
   },
   "outputs": [
    {
     "data": {
      "text/plain": [
       "inf"
      ]
     },
     "execution_count": 21,
     "metadata": {},
     "output_type": "execute_result"
    }
   ],
   "source": [
    "data.fare_per_km.max()"
   ]
  },
  {
   "cell_type": "code",
   "execution_count": 22,
   "id": "661f3117",
   "metadata": {
    "execution": {
     "iopub.execute_input": "2023-02-21T06:45:06.741826Z",
     "iopub.status.busy": "2023-02-21T06:45:06.741419Z",
     "iopub.status.idle": "2023-02-21T06:45:07.398555Z",
     "shell.execute_reply": "2023-02-21T06:45:07.397269Z"
    },
    "papermill": {
     "duration": 0.695402,
     "end_time": "2023-02-21T06:45:07.401729",
     "exception": false,
     "start_time": "2023-02-21T06:45:06.706327",
     "status": "completed"
    },
    "tags": []
   },
   "outputs": [],
   "source": [
    "# From pickup_datetime extract date, month, year, weekday and dayname\n",
    "from datetime import datetime\n",
    "\n",
    "data['date'] = pd.to_datetime(data['pickup_datetime']).dt.date\n",
    "data['month'] = pd.to_datetime(data['pickup_datetime']).dt.month\n",
    "data['year'] = pd.to_datetime(data['pickup_datetime']).dt.year\n",
    "data['day_of_the_week'] = pd.to_datetime(data['pickup_datetime']).dt.weekday\n",
    "data['day_name'] = pd.to_datetime(data['pickup_datetime']).dt.day_name()\n",
    "data['pickup_time'] = pd.to_datetime(data['pickup_datetime']).dt.time\n",
    "data['pickup_hour'] = pd.to_datetime(data['pickup_datetime']).dt.hour\n"
   ]
  },
  {
   "cell_type": "code",
   "execution_count": 23,
   "id": "a9f08ca4",
   "metadata": {
    "execution": {
     "iopub.execute_input": "2023-02-21T06:45:07.472524Z",
     "iopub.status.busy": "2023-02-21T06:45:07.472130Z",
     "iopub.status.idle": "2023-02-21T06:45:07.522256Z",
     "shell.execute_reply": "2023-02-21T06:45:07.520457Z"
    },
    "papermill": {
     "duration": 0.087733,
     "end_time": "2023-02-21T06:45:07.524886",
     "exception": false,
     "start_time": "2023-02-21T06:45:07.437153",
     "status": "completed"
    },
    "scrolled": true,
    "tags": []
   },
   "outputs": [
    {
     "name": "stdout",
     "output_type": "stream",
     "text": [
      "<class 'pandas.core.frame.DataFrame'>\n",
      "Int64Index: 199999 entries, 0 to 199999\n",
      "Data columns (total 16 columns):\n",
      " #   Column              Non-Null Count   Dtype              \n",
      "---  ------              --------------   -----              \n",
      " 0   fare_amount         199999 non-null  float64            \n",
      " 1   pickup_datetime     199999 non-null  datetime64[ns, UTC]\n",
      " 2   pickup_longitude    199999 non-null  float64            \n",
      " 3   pickup_latitude     199999 non-null  float64            \n",
      " 4   dropoff_longitude   199999 non-null  float64            \n",
      " 5   dropoff_latitude    199999 non-null  float64            \n",
      " 6   passenger_count     199999 non-null  int64              \n",
      " 7   distance_travelled  199999 non-null  float64            \n",
      " 8   fare_per_km         199997 non-null  float64            \n",
      " 9   date                199999 non-null  object             \n",
      " 10  month               199999 non-null  int64              \n",
      " 11  year                199999 non-null  int64              \n",
      " 12  day_of_the_week     199999 non-null  int64              \n",
      " 13  day_name            199999 non-null  object             \n",
      " 14  pickup_time         199999 non-null  object             \n",
      " 15  pickup_hour         199999 non-null  int64              \n",
      "dtypes: datetime64[ns, UTC](1), float64(7), int64(5), object(3)\n",
      "memory usage: 25.9+ MB\n"
     ]
    }
   ],
   "source": [
    "data.info()"
   ]
  },
  {
   "cell_type": "markdown",
   "id": "2ba16dd3",
   "metadata": {
    "papermill": {
     "duration": 0.022238,
     "end_time": "2023-02-21T06:45:07.570507",
     "exception": false,
     "start_time": "2023-02-21T06:45:07.548269",
     "status": "completed"
    },
    "tags": []
   },
   "source": [
    "### Outlier Treatment"
   ]
  },
  {
   "cell_type": "markdown",
   "id": "6df4fbfe",
   "metadata": {
    "papermill": {
     "duration": 0.021959,
     "end_time": "2023-02-21T06:45:07.615305",
     "exception": false,
     "start_time": "2023-02-21T06:45:07.593346",
     "status": "completed"
    },
    "tags": []
   },
   "source": [
    "The following treatment is being done to outliers:\n",
    "- passanger_count should be less than 5\n",
    "- rows with passanger_count = 0 should be dropped\n",
    "- fare_amount should be kept to the minimum set by Uber, i.e., $2.5\n",
    "- distance should be maximum 130 km\n",
    "- distance travelled cannot be zero. Rows with distance = 0 must be dropped"
   ]
  },
  {
   "cell_type": "code",
   "execution_count": 24,
   "id": "e10a1539",
   "metadata": {
    "execution": {
     "iopub.execute_input": "2023-02-21T06:45:07.662121Z",
     "iopub.status.busy": "2023-02-21T06:45:07.661479Z",
     "iopub.status.idle": "2023-02-21T06:45:07.927240Z",
     "shell.execute_reply": "2023-02-21T06:45:07.926198Z"
    },
    "papermill": {
     "duration": 0.29197,
     "end_time": "2023-02-21T06:45:07.929820",
     "exception": false,
     "start_time": "2023-02-21T06:45:07.637850",
     "status": "completed"
    },
    "tags": []
   },
   "outputs": [],
   "source": [
    "data.drop(data[data['passenger_count'] > 5].index, axis=0, inplace = True)\n",
    "data.drop(data[data['passenger_count'] == 0].index, axis=0, inplace = True)\n",
    "data.drop(data[data['fare_amount'] < 2.5].index, axis=0, inplace = True)\n",
    "data.drop(data[data['distance_travelled'] > 130].index, axis=0, inplace = True)\n",
    "data.drop(data[data['distance_travelled'] == 0].index, axis=0, inplace = True)\n",
    "data.drop(data[data['fare_per_km'] > 15 ].index, axis=0, inplace = True)\n",
    "data.drop(data[data['fare_per_km'] < 1 ].index, axis=0, inplace = True)\n",
    "data.dropna(axis=0,inplace=True)\n"
   ]
  },
  {
   "cell_type": "code",
   "execution_count": 25,
   "id": "11b05830",
   "metadata": {
    "execution": {
     "iopub.execute_input": "2023-02-21T06:45:07.977344Z",
     "iopub.status.busy": "2023-02-21T06:45:07.976457Z",
     "iopub.status.idle": "2023-02-21T06:45:07.995027Z",
     "shell.execute_reply": "2023-02-21T06:45:07.993947Z"
    },
    "papermill": {
     "duration": 0.04444,
     "end_time": "2023-02-21T06:45:07.997585",
     "exception": false,
     "start_time": "2023-02-21T06:45:07.953145",
     "status": "completed"
    },
    "tags": []
   },
   "outputs": [
    {
     "data": {
      "text/html": [
       "<div>\n",
       "<style scoped>\n",
       "    .dataframe tbody tr th:only-of-type {\n",
       "        vertical-align: middle;\n",
       "    }\n",
       "\n",
       "    .dataframe tbody tr th {\n",
       "        vertical-align: top;\n",
       "    }\n",
       "\n",
       "    .dataframe thead th {\n",
       "        text-align: right;\n",
       "    }\n",
       "</style>\n",
       "<table border=\"1\" class=\"dataframe\">\n",
       "  <thead>\n",
       "    <tr style=\"text-align: right;\">\n",
       "      <th></th>\n",
       "      <th>fare_amount</th>\n",
       "      <th>pickup_datetime</th>\n",
       "      <th>pickup_longitude</th>\n",
       "      <th>pickup_latitude</th>\n",
       "      <th>dropoff_longitude</th>\n",
       "      <th>dropoff_latitude</th>\n",
       "      <th>passenger_count</th>\n",
       "      <th>distance_travelled</th>\n",
       "      <th>fare_per_km</th>\n",
       "      <th>date</th>\n",
       "      <th>month</th>\n",
       "      <th>year</th>\n",
       "      <th>day_of_the_week</th>\n",
       "      <th>day_name</th>\n",
       "      <th>pickup_time</th>\n",
       "      <th>pickup_hour</th>\n",
       "    </tr>\n",
       "  </thead>\n",
       "  <tbody>\n",
       "    <tr>\n",
       "      <th>0</th>\n",
       "      <td>7.5</td>\n",
       "      <td>2015-05-07 19:52:06+00:00</td>\n",
       "      <td>-73.999817</td>\n",
       "      <td>40.738354</td>\n",
       "      <td>-73.999512</td>\n",
       "      <td>40.723217</td>\n",
       "      <td>1</td>\n",
       "      <td>1.683323</td>\n",
       "      <td>4.455474</td>\n",
       "      <td>2015-05-07</td>\n",
       "      <td>5</td>\n",
       "      <td>2015</td>\n",
       "      <td>3</td>\n",
       "      <td>Thursday</td>\n",
       "      <td>19:52:06</td>\n",
       "      <td>19</td>\n",
       "    </tr>\n",
       "    <tr>\n",
       "      <th>1</th>\n",
       "      <td>7.7</td>\n",
       "      <td>2009-07-17 20:04:56+00:00</td>\n",
       "      <td>-73.994355</td>\n",
       "      <td>40.728225</td>\n",
       "      <td>-73.994710</td>\n",
       "      <td>40.750325</td>\n",
       "      <td>1</td>\n",
       "      <td>2.457590</td>\n",
       "      <td>3.133151</td>\n",
       "      <td>2009-07-17</td>\n",
       "      <td>7</td>\n",
       "      <td>2009</td>\n",
       "      <td>4</td>\n",
       "      <td>Friday</td>\n",
       "      <td>20:04:56</td>\n",
       "      <td>20</td>\n",
       "    </tr>\n",
       "    <tr>\n",
       "      <th>2</th>\n",
       "      <td>12.9</td>\n",
       "      <td>2009-08-24 21:45:00+00:00</td>\n",
       "      <td>-74.005043</td>\n",
       "      <td>40.740770</td>\n",
       "      <td>-73.962565</td>\n",
       "      <td>40.772647</td>\n",
       "      <td>1</td>\n",
       "      <td>5.036377</td>\n",
       "      <td>2.561365</td>\n",
       "      <td>2009-08-24</td>\n",
       "      <td>8</td>\n",
       "      <td>2009</td>\n",
       "      <td>0</td>\n",
       "      <td>Monday</td>\n",
       "      <td>21:45:00</td>\n",
       "      <td>21</td>\n",
       "    </tr>\n",
       "    <tr>\n",
       "      <th>3</th>\n",
       "      <td>5.3</td>\n",
       "      <td>2009-06-26 08:22:21+00:00</td>\n",
       "      <td>-73.976124</td>\n",
       "      <td>40.790844</td>\n",
       "      <td>-73.965316</td>\n",
       "      <td>40.803349</td>\n",
       "      <td>3</td>\n",
       "      <td>1.661683</td>\n",
       "      <td>3.189536</td>\n",
       "      <td>2009-06-26</td>\n",
       "      <td>6</td>\n",
       "      <td>2009</td>\n",
       "      <td>4</td>\n",
       "      <td>Friday</td>\n",
       "      <td>08:22:21</td>\n",
       "      <td>8</td>\n",
       "    </tr>\n",
       "    <tr>\n",
       "      <th>4</th>\n",
       "      <td>16.0</td>\n",
       "      <td>2014-08-28 17:47:00+00:00</td>\n",
       "      <td>-73.925023</td>\n",
       "      <td>40.744085</td>\n",
       "      <td>-73.973082</td>\n",
       "      <td>40.761247</td>\n",
       "      <td>5</td>\n",
       "      <td>4.475450</td>\n",
       "      <td>3.575060</td>\n",
       "      <td>2014-08-28</td>\n",
       "      <td>8</td>\n",
       "      <td>2014</td>\n",
       "      <td>3</td>\n",
       "      <td>Thursday</td>\n",
       "      <td>17:47:00</td>\n",
       "      <td>17</td>\n",
       "    </tr>\n",
       "  </tbody>\n",
       "</table>\n",
       "</div>"
      ],
      "text/plain": [
       "   fare_amount           pickup_datetime  pickup_longitude  pickup_latitude  \\\n",
       "0          7.5 2015-05-07 19:52:06+00:00        -73.999817        40.738354   \n",
       "1          7.7 2009-07-17 20:04:56+00:00        -73.994355        40.728225   \n",
       "2         12.9 2009-08-24 21:45:00+00:00        -74.005043        40.740770   \n",
       "3          5.3 2009-06-26 08:22:21+00:00        -73.976124        40.790844   \n",
       "4         16.0 2014-08-28 17:47:00+00:00        -73.925023        40.744085   \n",
       "\n",
       "   dropoff_longitude  dropoff_latitude  passenger_count  distance_travelled  \\\n",
       "0         -73.999512         40.723217                1            1.683323   \n",
       "1         -73.994710         40.750325                1            2.457590   \n",
       "2         -73.962565         40.772647                1            5.036377   \n",
       "3         -73.965316         40.803349                3            1.661683   \n",
       "4         -73.973082         40.761247                5            4.475450   \n",
       "\n",
       "   fare_per_km        date  month  year  day_of_the_week  day_name  \\\n",
       "0     4.455474  2015-05-07      5  2015                3  Thursday   \n",
       "1     3.133151  2009-07-17      7  2009                4    Friday   \n",
       "2     2.561365  2009-08-24      8  2009                0    Monday   \n",
       "3     3.189536  2009-06-26      6  2009                4    Friday   \n",
       "4     3.575060  2014-08-28      8  2014                3  Thursday   \n",
       "\n",
       "  pickup_time  pickup_hour  \n",
       "0    19:52:06           19  \n",
       "1    20:04:56           20  \n",
       "2    21:45:00           21  \n",
       "3    08:22:21            8  \n",
       "4    17:47:00           17  "
      ]
     },
     "execution_count": 25,
     "metadata": {},
     "output_type": "execute_result"
    }
   ],
   "source": [
    "data.head()"
   ]
  },
  {
   "cell_type": "code",
   "execution_count": 26,
   "id": "08c6c6a4",
   "metadata": {
    "execution": {
     "iopub.execute_input": "2023-02-21T06:45:08.045913Z",
     "iopub.status.busy": "2023-02-21T06:45:08.045634Z",
     "iopub.status.idle": "2023-02-21T06:45:08.150501Z",
     "shell.execute_reply": "2023-02-21T06:45:08.149606Z"
    },
    "papermill": {
     "duration": 0.130836,
     "end_time": "2023-02-21T06:45:08.152535",
     "exception": false,
     "start_time": "2023-02-21T06:45:08.021699",
     "status": "completed"
    },
    "scrolled": true,
    "tags": []
   },
   "outputs": [
    {
     "data": {
      "text/html": [
       "<div>\n",
       "<style scoped>\n",
       "    .dataframe tbody tr th:only-of-type {\n",
       "        vertical-align: middle;\n",
       "    }\n",
       "\n",
       "    .dataframe tbody tr th {\n",
       "        vertical-align: top;\n",
       "    }\n",
       "\n",
       "    .dataframe thead th {\n",
       "        text-align: right;\n",
       "    }\n",
       "</style>\n",
       "<table border=\"1\" class=\"dataframe\">\n",
       "  <thead>\n",
       "    <tr style=\"text-align: right;\">\n",
       "      <th></th>\n",
       "      <th>count</th>\n",
       "      <th>mean</th>\n",
       "      <th>std</th>\n",
       "      <th>min</th>\n",
       "      <th>25%</th>\n",
       "      <th>50%</th>\n",
       "      <th>75%</th>\n",
       "      <th>max</th>\n",
       "    </tr>\n",
       "  </thead>\n",
       "  <tbody>\n",
       "    <tr>\n",
       "      <th>fare_amount</th>\n",
       "      <td>185518.0</td>\n",
       "      <td>11.291555</td>\n",
       "      <td>9.405703</td>\n",
       "      <td>2.500000</td>\n",
       "      <td>6.000000</td>\n",
       "      <td>8.500000</td>\n",
       "      <td>12.500000</td>\n",
       "      <td>230.000000</td>\n",
       "    </tr>\n",
       "    <tr>\n",
       "      <th>pickup_longitude</th>\n",
       "      <td>185518.0</td>\n",
       "      <td>-73.924358</td>\n",
       "      <td>2.401748</td>\n",
       "      <td>-75.387785</td>\n",
       "      <td>-73.992287</td>\n",
       "      <td>-73.982172</td>\n",
       "      <td>-73.968599</td>\n",
       "      <td>40.806012</td>\n",
       "    </tr>\n",
       "    <tr>\n",
       "      <th>pickup_latitude</th>\n",
       "      <td>185518.0</td>\n",
       "      <td>40.700873</td>\n",
       "      <td>2.367045</td>\n",
       "      <td>-74.015515</td>\n",
       "      <td>40.736502</td>\n",
       "      <td>40.753274</td>\n",
       "      <td>40.767578</td>\n",
       "      <td>42.478467</td>\n",
       "    </tr>\n",
       "    <tr>\n",
       "      <th>dropoff_longitude</th>\n",
       "      <td>185518.0</td>\n",
       "      <td>-73.923311</td>\n",
       "      <td>2.401850</td>\n",
       "      <td>-75.417737</td>\n",
       "      <td>-73.991595</td>\n",
       "      <td>-73.980590</td>\n",
       "      <td>-73.965662</td>\n",
       "      <td>40.831932</td>\n",
       "    </tr>\n",
       "    <tr>\n",
       "      <th>dropoff_latitude</th>\n",
       "      <td>185518.0</td>\n",
       "      <td>40.701207</td>\n",
       "      <td>2.367362</td>\n",
       "      <td>-74.015750</td>\n",
       "      <td>40.735405</td>\n",
       "      <td>40.753758</td>\n",
       "      <td>40.768368</td>\n",
       "      <td>42.464187</td>\n",
       "    </tr>\n",
       "    <tr>\n",
       "      <th>passenger_count</th>\n",
       "      <td>185518.0</td>\n",
       "      <td>1.595015</td>\n",
       "      <td>1.150306</td>\n",
       "      <td>1.000000</td>\n",
       "      <td>1.000000</td>\n",
       "      <td>1.000000</td>\n",
       "      <td>2.000000</td>\n",
       "      <td>5.000000</td>\n",
       "    </tr>\n",
       "    <tr>\n",
       "      <th>distance_travelled</th>\n",
       "      <td>185518.0</td>\n",
       "      <td>3.387932</td>\n",
       "      <td>3.590524</td>\n",
       "      <td>0.167931</td>\n",
       "      <td>1.315546</td>\n",
       "      <td>2.210790</td>\n",
       "      <td>3.970801</td>\n",
       "      <td>60.851156</td>\n",
       "    </tr>\n",
       "    <tr>\n",
       "      <th>fare_per_km</th>\n",
       "      <td>185518.0</td>\n",
       "      <td>4.228687</td>\n",
       "      <td>1.850882</td>\n",
       "      <td>1.007472</td>\n",
       "      <td>2.957554</td>\n",
       "      <td>3.790655</td>\n",
       "      <td>4.963468</td>\n",
       "      <td>14.998885</td>\n",
       "    </tr>\n",
       "    <tr>\n",
       "      <th>month</th>\n",
       "      <td>185518.0</td>\n",
       "      <td>6.277359</td>\n",
       "      <td>3.439935</td>\n",
       "      <td>1.000000</td>\n",
       "      <td>3.000000</td>\n",
       "      <td>6.000000</td>\n",
       "      <td>9.000000</td>\n",
       "      <td>12.000000</td>\n",
       "    </tr>\n",
       "    <tr>\n",
       "      <th>year</th>\n",
       "      <td>185518.0</td>\n",
       "      <td>2011.724630</td>\n",
       "      <td>1.862175</td>\n",
       "      <td>2009.000000</td>\n",
       "      <td>2010.000000</td>\n",
       "      <td>2012.000000</td>\n",
       "      <td>2013.000000</td>\n",
       "      <td>2015.000000</td>\n",
       "    </tr>\n",
       "    <tr>\n",
       "      <th>day_of_the_week</th>\n",
       "      <td>185518.0</td>\n",
       "      <td>3.050141</td>\n",
       "      <td>1.947017</td>\n",
       "      <td>0.000000</td>\n",
       "      <td>1.000000</td>\n",
       "      <td>3.000000</td>\n",
       "      <td>5.000000</td>\n",
       "      <td>6.000000</td>\n",
       "    </tr>\n",
       "    <tr>\n",
       "      <th>pickup_hour</th>\n",
       "      <td>185518.0</td>\n",
       "      <td>13.496291</td>\n",
       "      <td>6.520134</td>\n",
       "      <td>0.000000</td>\n",
       "      <td>9.000000</td>\n",
       "      <td>14.000000</td>\n",
       "      <td>19.000000</td>\n",
       "      <td>23.000000</td>\n",
       "    </tr>\n",
       "  </tbody>\n",
       "</table>\n",
       "</div>"
      ],
      "text/plain": [
       "                       count         mean       std          min          25%  \\\n",
       "fare_amount         185518.0    11.291555  9.405703     2.500000     6.000000   \n",
       "pickup_longitude    185518.0   -73.924358  2.401748   -75.387785   -73.992287   \n",
       "pickup_latitude     185518.0    40.700873  2.367045   -74.015515    40.736502   \n",
       "dropoff_longitude   185518.0   -73.923311  2.401850   -75.417737   -73.991595   \n",
       "dropoff_latitude    185518.0    40.701207  2.367362   -74.015750    40.735405   \n",
       "passenger_count     185518.0     1.595015  1.150306     1.000000     1.000000   \n",
       "distance_travelled  185518.0     3.387932  3.590524     0.167931     1.315546   \n",
       "fare_per_km         185518.0     4.228687  1.850882     1.007472     2.957554   \n",
       "month               185518.0     6.277359  3.439935     1.000000     3.000000   \n",
       "year                185518.0  2011.724630  1.862175  2009.000000  2010.000000   \n",
       "day_of_the_week     185518.0     3.050141  1.947017     0.000000     1.000000   \n",
       "pickup_hour         185518.0    13.496291  6.520134     0.000000     9.000000   \n",
       "\n",
       "                            50%          75%          max  \n",
       "fare_amount            8.500000    12.500000   230.000000  \n",
       "pickup_longitude     -73.982172   -73.968599    40.806012  \n",
       "pickup_latitude       40.753274    40.767578    42.478467  \n",
       "dropoff_longitude    -73.980590   -73.965662    40.831932  \n",
       "dropoff_latitude      40.753758    40.768368    42.464187  \n",
       "passenger_count        1.000000     2.000000     5.000000  \n",
       "distance_travelled     2.210790     3.970801    60.851156  \n",
       "fare_per_km            3.790655     4.963468    14.998885  \n",
       "month                  6.000000     9.000000    12.000000  \n",
       "year                2012.000000  2013.000000  2015.000000  \n",
       "day_of_the_week        3.000000     5.000000     6.000000  \n",
       "pickup_hour           14.000000    19.000000    23.000000  "
      ]
     },
     "execution_count": 26,
     "metadata": {},
     "output_type": "execute_result"
    }
   ],
   "source": [
    "data.describe().T"
   ]
  },
  {
   "cell_type": "code",
   "execution_count": 27,
   "id": "139cb114",
   "metadata": {
    "execution": {
     "iopub.execute_input": "2023-02-21T06:45:08.200753Z",
     "iopub.status.busy": "2023-02-21T06:45:08.199798Z",
     "iopub.status.idle": "2023-02-21T06:45:08.207682Z",
     "shell.execute_reply": "2023-02-21T06:45:08.206756Z"
    },
    "papermill": {
     "duration": 0.033498,
     "end_time": "2023-02-21T06:45:08.209618",
     "exception": false,
     "start_time": "2023-02-21T06:45:08.176120",
     "status": "completed"
    },
    "tags": []
   },
   "outputs": [],
   "source": [
    "# Dropping the columns 'pickup datetime' and 'pickup hour' as we have extracted relvant pieces of information\n",
    "# from these columns and do not need these columns for our analysis now. Also, 'date' and 'day_name', month and yuear\n",
    "# as well as pickup and dropoff coordinates are not required as we have the required data extracted from them\n",
    "\n",
    "data = data.drop(['pickup_datetime','pickup_time', 'date', 'pickup_longitude', 'pickup_latitude',\n",
    "                  'dropoff_longitude', 'dropoff_latitude', 'day_name'],axis=1)"
   ]
  },
  {
   "cell_type": "code",
   "execution_count": 28,
   "id": "885d8c17",
   "metadata": {
    "execution": {
     "iopub.execute_input": "2023-02-21T06:45:08.256993Z",
     "iopub.status.busy": "2023-02-21T06:45:08.256684Z",
     "iopub.status.idle": "2023-02-21T06:45:08.271783Z",
     "shell.execute_reply": "2023-02-21T06:45:08.270057Z"
    },
    "papermill": {
     "duration": 0.041694,
     "end_time": "2023-02-21T06:45:08.274710",
     "exception": false,
     "start_time": "2023-02-21T06:45:08.233016",
     "status": "completed"
    },
    "tags": []
   },
   "outputs": [
    {
     "name": "stdout",
     "output_type": "stream",
     "text": [
      "<class 'pandas.core.frame.DataFrame'>\n",
      "Int64Index: 185518 entries, 0 to 199999\n",
      "Data columns (total 8 columns):\n",
      " #   Column              Non-Null Count   Dtype  \n",
      "---  ------              --------------   -----  \n",
      " 0   fare_amount         185518 non-null  float64\n",
      " 1   passenger_count     185518 non-null  int64  \n",
      " 2   distance_travelled  185518 non-null  float64\n",
      " 3   fare_per_km         185518 non-null  float64\n",
      " 4   month               185518 non-null  int64  \n",
      " 5   year                185518 non-null  int64  \n",
      " 6   day_of_the_week     185518 non-null  int64  \n",
      " 7   pickup_hour         185518 non-null  int64  \n",
      "dtypes: float64(3), int64(5)\n",
      "memory usage: 12.7 MB\n"
     ]
    }
   ],
   "source": [
    "data.info()"
   ]
  },
  {
   "cell_type": "markdown",
   "id": "83c98862",
   "metadata": {
    "papermill": {
     "duration": 0.022751,
     "end_time": "2023-02-21T06:45:08.321889",
     "exception": false,
     "start_time": "2023-02-21T06:45:08.299138",
     "status": "completed"
    },
    "tags": []
   },
   "source": [
    "# Numerical Features - Univariate Analysis"
   ]
  },
  {
   "cell_type": "markdown",
   "id": "b4fd3e7d",
   "metadata": {
    "papermill": {
     "duration": 0.022285,
     "end_time": "2023-02-21T06:45:08.366690",
     "exception": false,
     "start_time": "2023-02-21T06:45:08.344405",
     "status": "completed"
    },
    "tags": []
   },
   "source": [
    "## Boxplot & Histogram"
   ]
  },
  {
   "cell_type": "markdown",
   "id": "1749510f",
   "metadata": {
    "papermill": {
     "duration": 0.022427,
     "end_time": "2023-02-21T06:45:08.411923",
     "exception": false,
     "start_time": "2023-02-21T06:45:08.389496",
     "status": "completed"
    },
    "tags": []
   },
   "source": [
    "### Distance"
   ]
  },
  {
   "cell_type": "code",
   "execution_count": 29,
   "id": "3832c366",
   "metadata": {
    "execution": {
     "iopub.execute_input": "2023-02-21T06:45:08.459998Z",
     "iopub.status.busy": "2023-02-21T06:45:08.459657Z",
     "iopub.status.idle": "2023-02-21T06:45:08.691178Z",
     "shell.execute_reply": "2023-02-21T06:45:08.690290Z"
    },
    "papermill": {
     "duration": 0.257927,
     "end_time": "2023-02-21T06:45:08.693235",
     "exception": false,
     "start_time": "2023-02-21T06:45:08.435308",
     "status": "completed"
    },
    "tags": []
   },
   "outputs": [
    {
     "data": {
      "text/plain": [
       "<AxesSubplot:xlabel='distance_travelled'>"
      ]
     },
     "execution_count": 29,
     "metadata": {},
     "output_type": "execute_result"
    },
    {
     "data": {
      "image/png": "[encoded data removed]",
      "text/plain": [
       "<Figure size 432x288 with 1 Axes>"
      ]
     },
     "metadata": {
      "needs_background": "light"
     },
     "output_type": "display_data"
    }
   ],
   "source": [
    "sns.boxplot(x=data['distance_travelled'])"
   ]
  },
  {
   "cell_type": "code",
   "execution_count": 30,
   "id": "bda75ffd",
   "metadata": {
    "execution": {
     "iopub.execute_input": "2023-02-21T06:45:08.742080Z",
     "iopub.status.busy": "2023-02-21T06:45:08.741049Z",
     "iopub.status.idle": "2023-02-21T06:45:08.979196Z",
     "shell.execute_reply": "2023-02-21T06:45:08.978252Z"
    },
    "papermill": {
     "duration": 0.264568,
     "end_time": "2023-02-21T06:45:08.981317",
     "exception": false,
     "start_time": "2023-02-21T06:45:08.716749",
     "status": "completed"
    },
    "tags": []
   },
   "outputs": [
    {
     "data": {
      "text/plain": [
       "<matplotlib.lines.Line2D at 0x7f28444ec1d0>"
      ]
     },
     "execution_count": 30,
     "metadata": {},
     "output_type": "execute_result"
    },
    {
     "data": {
      "image/png": "[encoded data removed]",
      "text/plain": [
       "<Figure size 432x288 with 1 Axes>"
      ]
     },
     "metadata": {
      "needs_background": "light"
     },
     "output_type": "display_data"
    }
   ],
   "source": [
    "import matplotlib.pyplot as plt\n",
    "hist = plt.hist(x=data['distance_travelled'], density = True)\n",
    "# Draw a vertical line in the histogram to visualize mean value of the numerical feature (NaNs will be ignored when calculating the mean)\n",
    "plt.axvline(data['distance_travelled'].mean(), color = 'red', linestyle='--')\n",
    "# Draw another vertical line in the histogram to visualize median value of the numerical feature (NaNs will be ignored when calculating the median)\n",
    "plt.axvline(data['distance_travelled'].median(), color = 'black', linestyle='-')"
   ]
  },
  {
   "cell_type": "markdown",
   "id": "6a6afa18",
   "metadata": {
    "papermill": {
     "duration": 0.0232,
     "end_time": "2023-02-21T06:45:09.029093",
     "exception": false,
     "start_time": "2023-02-21T06:45:09.005893",
     "status": "completed"
    },
    "tags": []
   },
   "source": [
    "Observations:\n",
    "- Negatively Skewed\n",
    "- Outliers on the left end\n",
    "- Mean and Median are close"
   ]
  },
  {
   "cell_type": "markdown",
   "id": "48df62c1",
   "metadata": {
    "papermill": {
     "duration": 0.02321,
     "end_time": "2023-02-21T06:45:09.075337",
     "exception": false,
     "start_time": "2023-02-21T06:45:09.052127",
     "status": "completed"
    },
    "tags": []
   },
   "source": [
    "# Categorical Features - Univariate Analysis"
   ]
  },
  {
   "cell_type": "markdown",
   "id": "6e468dda",
   "metadata": {
    "papermill": {
     "duration": 0.023254,
     "end_time": "2023-02-21T06:45:09.122106",
     "exception": false,
     "start_time": "2023-02-21T06:45:09.098852",
     "status": "completed"
    },
    "tags": []
   },
   "source": [
    "### Passenger Count"
   ]
  },
  {
   "cell_type": "code",
   "execution_count": 31,
   "id": "ba6889c9",
   "metadata": {
    "execution": {
     "iopub.execute_input": "2023-02-21T06:45:09.171297Z",
     "iopub.status.busy": "2023-02-21T06:45:09.170949Z",
     "iopub.status.idle": "2023-02-21T06:45:09.385154Z",
     "shell.execute_reply": "2023-02-21T06:45:09.384284Z"
    },
    "papermill": {
     "duration": 0.241554,
     "end_time": "2023-02-21T06:45:09.387326",
     "exception": false,
     "start_time": "2023-02-21T06:45:09.145772",
     "status": "completed"
    },
    "scrolled": true,
    "tags": []
   },
   "outputs": [
    {
     "data": {
      "text/plain": [
       "(array([0, 1, 2, 3, 4]),\n",
       " [Text(0, 0, '1'),\n",
       "  Text(1, 0, '2'),\n",
       "  Text(2, 0, '5'),\n",
       "  Text(3, 0, '3'),\n",
       "  Text(4, 0, '4')])"
      ]
     },
     "execution_count": 31,
     "metadata": {},
     "output_type": "execute_result"
    },
    {
     "data": {
      "image/png": "[encoded data removed]",
      "text/plain": [
       "<Figure size 432x288 with 1 Axes>"
      ]
     },
     "metadata": {
      "needs_background": "light"
     },
     "output_type": "display_data"
    }
   ],
   "source": [
    "data['passenger_count'].value_counts(normalize = True).plot.bar()\n",
    "plt.xticks(rotation = 0)"
   ]
  },
  {
   "cell_type": "markdown",
   "id": "64524dba",
   "metadata": {
    "papermill": {
     "duration": 0.023834,
     "end_time": "2023-02-21T06:45:09.435696",
     "exception": false,
     "start_time": "2023-02-21T06:45:09.411862",
     "status": "completed"
    },
    "tags": []
   },
   "source": [
    "Observation:\n",
    "- Almost 70% of trips had only 1 passanger"
   ]
  },
  {
   "cell_type": "markdown",
   "id": "18d38ab4",
   "metadata": {
    "papermill": {
     "duration": 0.023595,
     "end_time": "2023-02-21T06:45:09.482769",
     "exception": false,
     "start_time": "2023-02-21T06:45:09.459174",
     "status": "completed"
    },
    "tags": []
   },
   "source": [
    "### Day of the week"
   ]
  },
  {
   "cell_type": "code",
   "execution_count": 32,
   "id": "ae877bfc",
   "metadata": {
    "execution": {
     "iopub.execute_input": "2023-02-21T06:45:09.532221Z",
     "iopub.status.busy": "2023-02-21T06:45:09.531286Z",
     "iopub.status.idle": "2023-02-21T06:45:09.762408Z",
     "shell.execute_reply": "2023-02-21T06:45:09.761436Z"
    },
    "papermill": {
     "duration": 0.257804,
     "end_time": "2023-02-21T06:45:09.764636",
     "exception": false,
     "start_time": "2023-02-21T06:45:09.506832",
     "status": "completed"
    },
    "scrolled": true,
    "tags": []
   },
   "outputs": [
    {
     "data": {
      "text/plain": [
       "(array([0, 1, 2, 3, 4, 5, 6]),\n",
       " [Text(0, 0, '4'),\n",
       "  Text(1, 0, '5'),\n",
       "  Text(2, 0, '3'),\n",
       "  Text(3, 0, '2'),\n",
       "  Text(4, 0, '1'),\n",
       "  Text(5, 0, '6'),\n",
       "  Text(6, 0, '0')])"
      ]
     },
     "execution_count": 32,
     "metadata": {},
     "output_type": "execute_result"
    },
    {
     "data": {
      "image/png": "[encoded data removed]",
      "text/plain": [
       "<Figure size 432x288 with 1 Axes>"
      ]
     },
     "metadata": {
      "needs_background": "light"
     },
     "output_type": "display_data"
    }
   ],
   "source": [
    "data['day_of_the_week'].value_counts(normalize = True).plot.bar()\n",
    "plt.xticks(rotation = 0)"
   ]
  },
  {
   "cell_type": "markdown",
   "id": "764f334d",
   "metadata": {
    "papermill": {
     "duration": 0.026314,
     "end_time": "2023-02-21T06:45:09.817074",
     "exception": false,
     "start_time": "2023-02-21T06:45:09.790760",
     "status": "completed"
    },
    "tags": []
   },
   "source": [
    "Observation:\n",
    "- As expected, Friday (weekend eve) and Saturday had the highest number of trips"
   ]
  },
  {
   "cell_type": "markdown",
   "id": "49ab817c",
   "metadata": {
    "papermill": {
     "duration": 0.024887,
     "end_time": "2023-02-21T06:45:09.867816",
     "exception": false,
     "start_time": "2023-02-21T06:45:09.842929",
     "status": "completed"
    },
    "tags": []
   },
   "source": [
    "### Pickup Time"
   ]
  },
  {
   "cell_type": "code",
   "execution_count": 33,
   "id": "a5824eb9",
   "metadata": {
    "execution": {
     "iopub.execute_input": "2023-02-21T06:45:09.919576Z",
     "iopub.status.busy": "2023-02-21T06:45:09.919152Z",
     "iopub.status.idle": "2023-02-21T06:45:10.242924Z",
     "shell.execute_reply": "2023-02-21T06:45:10.241944Z"
    },
    "papermill": {
     "duration": 0.352047,
     "end_time": "2023-02-21T06:45:10.245203",
     "exception": false,
     "start_time": "2023-02-21T06:45:09.893156",
     "status": "completed"
    },
    "scrolled": true,
    "tags": []
   },
   "outputs": [
    {
     "data": {
      "text/plain": [
       "(array([ 0,  1,  2,  3,  4,  5,  6,  7,  8,  9, 10, 11, 12, 13, 14, 15, 16,\n",
       "        17, 18, 19, 20, 21, 22, 23]),\n",
       " [Text(0, 0, '19'),\n",
       "  Text(1, 0, '18'),\n",
       "  Text(2, 0, '20'),\n",
       "  Text(3, 0, '21'),\n",
       "  Text(4, 0, '22'),\n",
       "  Text(5, 0, '13'),\n",
       "  Text(6, 0, '12'),\n",
       "  Text(7, 0, '23'),\n",
       "  Text(8, 0, '14'),\n",
       "  Text(9, 0, '17'),\n",
       "  Text(10, 0, '15'),\n",
       "  Text(11, 0, '11'),\n",
       "  Text(12, 0, '9'),\n",
       "  Text(13, 0, '8'),\n",
       "  Text(14, 0, '10'),\n",
       "  Text(15, 0, '16'),\n",
       "  Text(16, 0, '0'),\n",
       "  Text(17, 0, '7'),\n",
       "  Text(18, 0, '1'),\n",
       "  Text(19, 0, '2'),\n",
       "  Text(20, 0, '6'),\n",
       "  Text(21, 0, '3'),\n",
       "  Text(22, 0, '4'),\n",
       "  Text(23, 0, '5')])"
      ]
     },
     "execution_count": 33,
     "metadata": {},
     "output_type": "execute_result"
    },
    {
     "data": {
      "image/png": "[encoded data removed]",
      "text/plain": [
       "<Figure size 432x288 with 1 Axes>"
      ]
     },
     "metadata": {
      "needs_background": "light"
     },
     "output_type": "display_data"
    }
   ],
   "source": [
    "data['pickup_hour'].value_counts(normalize = True).plot.bar()\n",
    "plt.xticks(rotation = 0)"
   ]
  },
  {
   "cell_type": "markdown",
   "id": "1493f081",
   "metadata": {
    "papermill": {
     "duration": 0.02454,
     "end_time": "2023-02-21T06:45:10.294808",
     "exception": false,
     "start_time": "2023-02-21T06:45:10.270268",
     "status": "completed"
    },
    "tags": []
   },
   "source": [
    "Observation:\n",
    "- As expected, the number of trips are low during 1am - 5am, and peak between 7pm - 9pm"
   ]
  },
  {
   "cell_type": "markdown",
   "id": "63cce342",
   "metadata": {
    "papermill": {
     "duration": 0.023698,
     "end_time": "2023-02-21T06:45:10.343098",
     "exception": false,
     "start_time": "2023-02-21T06:45:10.319400",
     "status": "completed"
    },
    "tags": []
   },
   "source": [
    "We can clearly see that during weekdays, peak hours are during the day while on weekends, peak hours are late in the night"
   ]
  },
  {
   "cell_type": "markdown",
   "id": "de86026b",
   "metadata": {
    "papermill": {
     "duration": 0.024118,
     "end_time": "2023-02-21T06:45:10.391094",
     "exception": false,
     "start_time": "2023-02-21T06:45:10.366976",
     "status": "completed"
    },
    "tags": []
   },
   "source": [
    "# Bivariate / Multivariate Analysis"
   ]
  },
  {
   "cell_type": "code",
   "execution_count": 34,
   "id": "79122615",
   "metadata": {
    "execution": {
     "iopub.execute_input": "2023-02-21T06:45:10.441734Z",
     "iopub.status.busy": "2023-02-21T06:45:10.441360Z",
     "iopub.status.idle": "2023-02-21T06:45:10.874255Z",
     "shell.execute_reply": "2023-02-21T06:45:10.873273Z"
    },
    "papermill": {
     "duration": 0.461786,
     "end_time": "2023-02-21T06:45:10.877109",
     "exception": false,
     "start_time": "2023-02-21T06:45:10.415323",
     "status": "completed"
    },
    "tags": []
   },
   "outputs": [
    {
     "name": "stderr",
     "output_type": "stream",
     "text": [
      "/opt/conda/lib/python3.7/site-packages/geopandas/_compat.py:115: UserWarning: The Shapely GEOS version (3.9.1-CAPI-1.14.2) is incompatible with the GEOS version PyGEOS was compiled with (3.10.4-CAPI-1.16.2). Conversions between both will be slow.\n",
      "  shapely_geos_version, geos_capi_version_string\n"
     ]
    }
   ],
   "source": [
    "import geopandas as gpd"
   ]
  },
  {
   "cell_type": "code",
   "execution_count": 35,
   "id": "f09364b2",
   "metadata": {
    "execution": {
     "iopub.execute_input": "2023-02-21T06:45:10.928537Z",
     "iopub.status.busy": "2023-02-21T06:45:10.928172Z",
     "iopub.status.idle": "2023-02-21T06:45:11.517604Z",
     "shell.execute_reply": "2023-02-21T06:45:11.516652Z"
    },
    "papermill": {
     "duration": 0.617726,
     "end_time": "2023-02-21T06:45:11.519999",
     "exception": false,
     "start_time": "2023-02-21T06:45:10.902273",
     "status": "completed"
    },
    "tags": []
   },
   "outputs": [
    {
     "data": {
      "image/png": "[encoded data removed]",
      "text/plain": [
       "<Figure size 432x288 with 1 Axes>"
      ]
     },
     "metadata": {
      "needs_background": "light"
     },
     "output_type": "display_data"
    }
   ],
   "source": [
    "#Scatte plot of distance vs fare amount\n",
    "plt.scatter(x = data.distance_travelled, y = data.fare_amount)\n",
    "\n",
    "# Show the plot\n",
    "plt.show()"
   ]
  },
  {
   "cell_type": "markdown",
   "id": "5bcabb1e",
   "metadata": {
    "papermill": {
     "duration": 0.034852,
     "end_time": "2023-02-21T06:45:11.597987",
     "exception": false,
     "start_time": "2023-02-21T06:45:11.563135",
     "status": "completed"
    },
    "tags": []
   },
   "source": [
    "Generally, as distance increases, the fare amount also increases with a few sporadic inconsistencies"
   ]
  },
  {
   "cell_type": "code",
   "execution_count": 36,
   "id": "3e037784",
   "metadata": {
    "execution": {
     "iopub.execute_input": "2023-02-21T06:45:11.649128Z",
     "iopub.status.busy": "2023-02-21T06:45:11.648779Z",
     "iopub.status.idle": "2023-02-21T06:45:12.100729Z",
     "shell.execute_reply": "2023-02-21T06:45:12.099738Z"
    },
    "papermill": {
     "duration": 0.479865,
     "end_time": "2023-02-21T06:45:12.102806",
     "exception": false,
     "start_time": "2023-02-21T06:45:11.622941",
     "status": "completed"
    },
    "tags": []
   },
   "outputs": [
    {
     "data": {
      "image/png": "[encoded data removed]",
      "text/plain": [
       "<Figure size 432x288 with 1 Axes>"
      ]
     },
     "metadata": {
      "needs_background": "light"
     },
     "output_type": "display_data"
    }
   ],
   "source": [
    "#Scatte plot of day of the week vs fare amount\n",
    "plt.scatter(x = data.day_of_the_week, y = data.fare_amount)\n",
    "\n",
    "# Show the plot\n",
    "plt.show()"
   ]
  },
  {
   "cell_type": "markdown",
   "id": "60a93cc3",
   "metadata": {
    "papermill": {
     "duration": 0.024433,
     "end_time": "2023-02-21T06:45:12.153239",
     "exception": false,
     "start_time": "2023-02-21T06:45:12.128806",
     "status": "completed"
    },
    "tags": []
   },
   "source": [
    "Generally speaking, weekend fares are higher than weekday fares. This could be due to distance travelled or due to peak hours"
   ]
  },
  {
   "cell_type": "code",
   "execution_count": 37,
   "id": "f639422a",
   "metadata": {
    "execution": {
     "iopub.execute_input": "2023-02-21T06:45:12.205310Z",
     "iopub.status.busy": "2023-02-21T06:45:12.204973Z",
     "iopub.status.idle": "2023-02-21T06:45:12.665129Z",
     "shell.execute_reply": "2023-02-21T06:45:12.664245Z"
    },
    "papermill": {
     "duration": 0.488184,
     "end_time": "2023-02-21T06:45:12.667363",
     "exception": false,
     "start_time": "2023-02-21T06:45:12.179179",
     "status": "completed"
    },
    "tags": []
   },
   "outputs": [
    {
     "data": {
      "image/png": "[encoded data removed]",
      "text/plain": [
       "<Figure size 432x288 with 1 Axes>"
      ]
     },
     "metadata": {
      "needs_background": "light"
     },
     "output_type": "display_data"
    }
   ],
   "source": [
    "#Scatte plot of day of the week vs distance to see if there is any relationship between them\n",
    "plt.scatter(x = data.day_of_the_week, y = data.distance_travelled)\n",
    "\n",
    "# Show the plot\n",
    "plt.show()"
   ]
  },
  {
   "cell_type": "markdown",
   "id": "2568bd87",
   "metadata": {
    "papermill": {
     "duration": 0.024479,
     "end_time": "2023-02-21T06:45:12.717745",
     "exception": false,
     "start_time": "2023-02-21T06:45:12.693266",
     "status": "completed"
    },
    "tags": []
   },
   "source": [
    "We see that there isn;t much of a relationship between distance travelled vs fay of the week - thus, it is appears that fare amount being higher on weekends has a high likelihood of being linked to peak hours / wait time due to higher traffic.\n",
    "\n",
    "Unfortunately, we do not have the dropoff time for each ride to be able to ascertain the time of each trip and demonstrate if we can see a relationship between fare and time travelled"
   ]
  },
  {
   "cell_type": "code",
   "execution_count": 38,
   "id": "a572bb33",
   "metadata": {
    "execution": {
     "iopub.execute_input": "2023-02-21T06:45:12.770223Z",
     "iopub.status.busy": "2023-02-21T06:45:12.769284Z",
     "iopub.status.idle": "2023-02-21T06:45:13.220074Z",
     "shell.execute_reply": "2023-02-21T06:45:13.219147Z"
    },
    "papermill": {
     "duration": 0.479442,
     "end_time": "2023-02-21T06:45:13.222188",
     "exception": false,
     "start_time": "2023-02-21T06:45:12.742746",
     "status": "completed"
    },
    "tags": []
   },
   "outputs": [
    {
     "data": {
      "image/png": "[encoded data removed]",
      "text/plain": [
       "<Figure size 432x288 with 1 Axes>"
      ]
     },
     "metadata": {
      "needs_background": "light"
     },
     "output_type": "display_data"
    }
   ],
   "source": [
    "#Scatte plot of pickup time vs fare amount\n",
    "plt.scatter(x = data.pickup_hour, y = data.fare_amount)\n",
    "\n",
    "# Show the plot\n",
    "plt.show()"
   ]
  },
  {
   "cell_type": "markdown",
   "id": "cbad534b",
   "metadata": {
    "papermill": {
     "duration": 0.024774,
     "end_time": "2023-02-21T06:45:13.272882",
     "exception": false,
     "start_time": "2023-02-21T06:45:13.248108",
     "status": "completed"
    },
    "tags": []
   },
   "source": [
    "We do see some pickup times having a greater % of higher fares as compared to others - however, it is difficult to draw a concluding relationship"
   ]
  },
  {
   "cell_type": "code",
   "execution_count": 39,
   "id": "94e82b24",
   "metadata": {
    "execution": {
     "iopub.execute_input": "2023-02-21T06:45:13.326802Z",
     "iopub.status.busy": "2023-02-21T06:45:13.326385Z",
     "iopub.status.idle": "2023-02-21T06:45:13.785792Z",
     "shell.execute_reply": "2023-02-21T06:45:13.784858Z"
    },
    "papermill": {
     "duration": 0.490088,
     "end_time": "2023-02-21T06:45:13.787966",
     "exception": false,
     "start_time": "2023-02-21T06:45:13.297878",
     "status": "completed"
    },
    "tags": []
   },
   "outputs": [
    {
     "data": {
      "image/png": "[encoded data removed]",
      "text/plain": [
       "<Figure size 432x288 with 1 Axes>"
      ]
     },
     "metadata": {
      "needs_background": "light"
     },
     "output_type": "display_data"
    }
   ],
   "source": [
    "#Scatte plot of pickup time vs distance\n",
    "plt.scatter(x = data.pickup_hour, y = data.distance_travelled)\n",
    "\n",
    "# Show the plot\n",
    "plt.show()"
   ]
  },
  {
   "cell_type": "markdown",
   "id": "06e03c67",
   "metadata": {
    "papermill": {
     "duration": 0.02471,
     "end_time": "2023-02-21T06:45:13.838317",
     "exception": false,
     "start_time": "2023-02-21T06:45:13.813607",
     "status": "completed"
    },
    "tags": []
   },
   "source": [
    "Some pickup hours have a greater concentration of trips where a high distance was travelled as compared to others"
   ]
  },
  {
   "cell_type": "markdown",
   "id": "e04e1121",
   "metadata": {
    "papermill": {
     "duration": 0.025042,
     "end_time": "2023-02-21T06:45:13.888517",
     "exception": false,
     "start_time": "2023-02-21T06:45:13.863475",
     "status": "completed"
    },
    "tags": []
   },
   "source": [
    "### Data Preparatrion"
   ]
  },
  {
   "cell_type": "markdown",
   "id": "34cd8ae6",
   "metadata": {
    "papermill": {
     "duration": 0.02507,
     "end_time": "2023-02-21T06:45:13.939061",
     "exception": false,
     "start_time": "2023-02-21T06:45:13.913991",
     "status": "completed"
    },
    "tags": []
   },
   "source": [
    "### Feature Scaling"
   ]
  },
  {
   "cell_type": "markdown",
   "id": "d160ccc3",
   "metadata": {
    "papermill": {
     "duration": 0.025689,
     "end_time": "2023-02-21T06:45:13.989947",
     "exception": false,
     "start_time": "2023-02-21T06:45:13.964258",
     "status": "completed"
    },
    "tags": []
   },
   "source": [
    "Feature Scaling is required because of two reasons:\n",
    "1. The data points are far from each other. This means that in some columns, the distance between data points is a lot\n",
    "2. Some of the features have a unit while other features are unitless. Thereofre, it is important to make all features unitless"
   ]
  },
  {
   "cell_type": "code",
   "execution_count": 40,
   "id": "637e1121",
   "metadata": {
    "execution": {
     "iopub.execute_input": "2023-02-21T06:45:14.042065Z",
     "iopub.status.busy": "2023-02-21T06:45:14.041723Z",
     "iopub.status.idle": "2023-02-21T06:45:14.046429Z",
     "shell.execute_reply": "2023-02-21T06:45:14.045398Z"
    },
    "papermill": {
     "duration": 0.033105,
     "end_time": "2023-02-21T06:45:14.048839",
     "exception": false,
     "start_time": "2023-02-21T06:45:14.015734",
     "status": "completed"
    },
    "tags": []
   },
   "outputs": [],
   "source": [
    "#Feature Scaling (Standardization)\n",
    "\n",
    "from sklearn.preprocessing import StandardScaler\n",
    "\n",
    "std = StandardScaler()"
   ]
  },
  {
   "cell_type": "code",
   "execution_count": 41,
   "id": "78510635",
   "metadata": {
    "execution": {
     "iopub.execute_input": "2023-02-21T06:45:14.099846Z",
     "iopub.status.busy": "2023-02-21T06:45:14.099541Z",
     "iopub.status.idle": "2023-02-21T06:45:14.111297Z",
     "shell.execute_reply": "2023-02-21T06:45:14.110371Z"
    },
    "papermill": {
     "duration": 0.039687,
     "end_time": "2023-02-21T06:45:14.113372",
     "exception": false,
     "start_time": "2023-02-21T06:45:14.073685",
     "status": "completed"
    },
    "tags": []
   },
   "outputs": [],
   "source": [
    "x = data.drop(['fare_amount'], axis = 1)\n",
    "y = data['fare_amount'].values.reshape(-1, 1)"
   ]
  },
  {
   "cell_type": "code",
   "execution_count": 42,
   "id": "610acf4c",
   "metadata": {
    "execution": {
     "iopub.execute_input": "2023-02-21T06:45:14.164496Z",
     "iopub.status.busy": "2023-02-21T06:45:14.164174Z",
     "iopub.status.idle": "2023-02-21T06:45:14.195789Z",
     "shell.execute_reply": "2023-02-21T06:45:14.194731Z"
    },
    "papermill": {
     "duration": 0.06007,
     "end_time": "2023-02-21T06:45:14.198471",
     "exception": false,
     "start_time": "2023-02-21T06:45:14.138401",
     "status": "completed"
    },
    "tags": []
   },
   "outputs": [],
   "source": [
    "y_std = std.fit_transform(y)\n",
    "\n",
    "x_std = std.fit_transform(x)"
   ]
  },
  {
   "cell_type": "code",
   "execution_count": 43,
   "id": "eb060f09",
   "metadata": {
    "execution": {
     "iopub.execute_input": "2023-02-21T06:45:14.252931Z",
     "iopub.status.busy": "2023-02-21T06:45:14.252537Z",
     "iopub.status.idle": "2023-02-21T06:45:14.274414Z",
     "shell.execute_reply": "2023-02-21T06:45:14.273431Z"
    },
    "papermill": {
     "duration": 0.050296,
     "end_time": "2023-02-21T06:45:14.276574",
     "exception": false,
     "start_time": "2023-02-21T06:45:14.226278",
     "status": "completed"
    },
    "tags": []
   },
   "outputs": [],
   "source": [
    "x_train, x_test, y_train, y_test = train_test_split(x_std, y_std, test_size = 0.3, random_state = 42)"
   ]
  },
  {
   "cell_type": "code",
   "execution_count": 44,
   "id": "fae1f9ab",
   "metadata": {
    "execution": {
     "iopub.execute_input": "2023-02-21T06:45:14.329693Z",
     "iopub.status.busy": "2023-02-21T06:45:14.328827Z",
     "iopub.status.idle": "2023-02-21T06:45:14.335416Z",
     "shell.execute_reply": "2023-02-21T06:45:14.334408Z"
    },
    "papermill": {
     "duration": 0.034858,
     "end_time": "2023-02-21T06:45:14.337377",
     "exception": false,
     "start_time": "2023-02-21T06:45:14.302519",
     "status": "completed"
    },
    "tags": []
   },
   "outputs": [
    {
     "data": {
      "text/plain": [
       "(129862, 7)"
      ]
     },
     "execution_count": 44,
     "metadata": {},
     "output_type": "execute_result"
    }
   ],
   "source": [
    "x_train.shape"
   ]
  },
  {
   "cell_type": "code",
   "execution_count": 45,
   "id": "803ccc3e",
   "metadata": {
    "execution": {
     "iopub.execute_input": "2023-02-21T06:45:14.389849Z",
     "iopub.status.busy": "2023-02-21T06:45:14.389037Z",
     "iopub.status.idle": "2023-02-21T06:45:14.395424Z",
     "shell.execute_reply": "2023-02-21T06:45:14.394444Z"
    },
    "papermill": {
     "duration": 0.035092,
     "end_time": "2023-02-21T06:45:14.397420",
     "exception": false,
     "start_time": "2023-02-21T06:45:14.362328",
     "status": "completed"
    },
    "tags": []
   },
   "outputs": [
    {
     "data": {
      "text/plain": [
       "(129862, 1)"
      ]
     },
     "execution_count": 45,
     "metadata": {},
     "output_type": "execute_result"
    }
   ],
   "source": [
    "y_train.shape"
   ]
  },
  {
   "cell_type": "code",
   "execution_count": 46,
   "id": "c2b9209f",
   "metadata": {
    "execution": {
     "iopub.execute_input": "2023-02-21T06:45:14.450730Z",
     "iopub.status.busy": "2023-02-21T06:45:14.449904Z",
     "iopub.status.idle": "2023-02-21T06:45:14.456352Z",
     "shell.execute_reply": "2023-02-21T06:45:14.455371Z"
    },
    "papermill": {
     "duration": 0.03555,
     "end_time": "2023-02-21T06:45:14.458437",
     "exception": false,
     "start_time": "2023-02-21T06:45:14.422887",
     "status": "completed"
    },
    "tags": []
   },
   "outputs": [
    {
     "data": {
      "text/plain": [
       "(55656, 7)"
      ]
     },
     "execution_count": 46,
     "metadata": {},
     "output_type": "execute_result"
    }
   ],
   "source": [
    "x_test.shape"
   ]
  },
  {
   "cell_type": "code",
   "execution_count": 47,
   "id": "98a299bb",
   "metadata": {
    "execution": {
     "iopub.execute_input": "2023-02-21T06:45:14.510660Z",
     "iopub.status.busy": "2023-02-21T06:45:14.509759Z",
     "iopub.status.idle": "2023-02-21T06:45:14.515942Z",
     "shell.execute_reply": "2023-02-21T06:45:14.514986Z"
    },
    "papermill": {
     "duration": 0.034098,
     "end_time": "2023-02-21T06:45:14.517830",
     "exception": false,
     "start_time": "2023-02-21T06:45:14.483732",
     "status": "completed"
    },
    "tags": []
   },
   "outputs": [
    {
     "data": {
      "text/plain": [
       "(55656, 1)"
      ]
     },
     "execution_count": 47,
     "metadata": {},
     "output_type": "execute_result"
    }
   ],
   "source": [
    "y_test.shape"
   ]
  },
  {
   "cell_type": "markdown",
   "id": "0597377f",
   "metadata": {
    "papermill": {
     "duration": 0.025211,
     "end_time": "2023-02-21T06:45:14.568218",
     "exception": false,
     "start_time": "2023-02-21T06:45:14.543007",
     "status": "completed"
    },
    "tags": []
   },
   "source": [
    "# Regression Models"
   ]
  },
  {
   "cell_type": "markdown",
   "id": "773ff4f6",
   "metadata": {
    "papermill": {
     "duration": 0.025528,
     "end_time": "2023-02-21T06:45:14.618840",
     "exception": false,
     "start_time": "2023-02-21T06:45:14.593312",
     "status": "completed"
    },
    "tags": []
   },
   "source": [
    "## Linear Regression"
   ]
  },
  {
   "cell_type": "code",
   "execution_count": 48,
   "id": "efc4c84d",
   "metadata": {
    "execution": {
     "iopub.execute_input": "2023-02-21T06:45:14.671591Z",
     "iopub.status.busy": "2023-02-21T06:45:14.670691Z",
     "iopub.status.idle": "2023-02-21T06:45:14.723754Z",
     "shell.execute_reply": "2023-02-21T06:45:14.722711Z"
    },
    "papermill": {
     "duration": 0.082915,
     "end_time": "2023-02-21T06:45:14.727195",
     "exception": false,
     "start_time": "2023-02-21T06:45:14.644280",
     "status": "completed"
    },
    "tags": []
   },
   "outputs": [
    {
     "data": {
      "text/plain": [
       "LinearRegression()"
      ]
     },
     "execution_count": 48,
     "metadata": {},
     "output_type": "execute_result"
    }
   ],
   "source": [
    "from sklearn.linear_model import LinearRegression\n",
    "LR = LinearRegression()\n",
    "LR.fit(x_train,y_train)"
   ]
  },
  {
   "cell_type": "code",
   "execution_count": 49,
   "id": "b022f539",
   "metadata": {
    "execution": {
     "iopub.execute_input": "2023-02-21T06:45:14.853506Z",
     "iopub.status.busy": "2023-02-21T06:45:14.853127Z",
     "iopub.status.idle": "2023-02-21T06:45:14.860712Z",
     "shell.execute_reply": "2023-02-21T06:45:14.859533Z"
    },
    "papermill": {
     "duration": 0.063419,
     "end_time": "2023-02-21T06:45:14.863947",
     "exception": false,
     "start_time": "2023-02-21T06:45:14.800528",
     "status": "completed"
    },
    "tags": []
   },
   "outputs": [],
   "source": [
    "LR_pred = LR.predict(x_test)"
   ]
  },
  {
   "cell_type": "code",
   "execution_count": 50,
   "id": "9b3c253f",
   "metadata": {
    "execution": {
     "iopub.execute_input": "2023-02-21T06:45:14.995083Z",
     "iopub.status.busy": "2023-02-21T06:45:14.994758Z",
     "iopub.status.idle": "2023-02-21T06:45:15.008471Z",
     "shell.execute_reply": "2023-02-21T06:45:15.007071Z"
    },
    "papermill": {
     "duration": 0.081443,
     "end_time": "2023-02-21T06:45:15.013041",
     "exception": false,
     "start_time": "2023-02-21T06:45:14.931598",
     "status": "completed"
    },
    "tags": []
   },
   "outputs": [
    {
     "name": "stdout",
     "output_type": "stream",
     "text": [
      "Training set score: 0.89\n",
      "Test set score: 0.8923059\n"
     ]
    }
   ],
   "source": [
    "print(\"Training set score: {:.2f}\".format(LR.score(x_train, y_train)))\n",
    "print(\"Test set score: {:.7f}\".format(LR.score(x_test, y_test)))"
   ]
  },
  {
   "cell_type": "code",
   "execution_count": 51,
   "id": "b370bcb1",
   "metadata": {
    "execution": {
     "iopub.execute_input": "2023-02-21T06:45:15.143271Z",
     "iopub.status.busy": "2023-02-21T06:45:15.142953Z",
     "iopub.status.idle": "2023-02-21T06:45:15.153254Z",
     "shell.execute_reply": "2023-02-21T06:45:15.152425Z"
    },
    "papermill": {
     "duration": 0.074611,
     "end_time": "2023-02-21T06:45:15.155266",
     "exception": false,
     "start_time": "2023-02-21T06:45:15.080655",
     "status": "completed"
    },
    "tags": []
   },
   "outputs": [],
   "source": [
    "from sklearn import metrics\n",
    "from sklearn.metrics import r2_score\n",
    "\n",
    "MAE_LR= metrics.mean_absolute_error(y_test, LR_pred)\n",
    "MSE_LR= metrics.mean_squared_error(y_test, LR_pred)\n",
    "RMSE_LR= np.sqrt(metrics.mean_squared_error(y_test, LR_pred))\n",
    "r2_LR=r2_score(y_test, LR_pred)\n",
    "Adj_r2_LR=1-(1-r2_score(y_test, LR_pred))*((len(x_test)-1)/(len(x_test)-len(x_test[0])-1))"
   ]
  },
  {
   "cell_type": "code",
   "execution_count": 52,
   "id": "3e5e81b1",
   "metadata": {
    "execution": {
     "iopub.execute_input": "2023-02-21T06:45:15.208035Z",
     "iopub.status.busy": "2023-02-21T06:45:15.207275Z",
     "iopub.status.idle": "2023-02-21T06:45:15.213956Z",
     "shell.execute_reply": "2023-02-21T06:45:15.212680Z"
    },
    "papermill": {
     "duration": 0.035517,
     "end_time": "2023-02-21T06:45:15.216392",
     "exception": false,
     "start_time": "2023-02-21T06:45:15.180875",
     "status": "completed"
    },
    "tags": []
   },
   "outputs": [
    {
     "name": "stdout",
     "output_type": "stream",
     "text": [
      "Mean absolute error of linear regression 0.18255933458542203\n",
      "Mean square  error of linear regression 0.10839175165648914\n",
      "root Mean square error of linear regression 0.32922902614515803\n",
      "r2 score of linear regression 0.8923059388097574\n",
      "adjusted r2 of linear regression 0.8922923919001051\n"
     ]
    }
   ],
   "source": [
    "print('Mean absolute error of linear regression',MAE_LR)\n",
    "print('Mean square  error of linear regression',MSE_LR)\n",
    "print('root Mean square error of linear regression',RMSE_LR)\n",
    "print('r2 score of linear regression',r2_LR)\n",
    "print('adjusted r2 of linear regression',Adj_r2_LR)"
   ]
  },
  {
   "cell_type": "markdown",
   "id": "5194ac0e",
   "metadata": {
    "papermill": {
     "duration": 0.025333,
     "end_time": "2023-02-21T06:45:15.268181",
     "exception": false,
     "start_time": "2023-02-21T06:45:15.242848",
     "status": "completed"
    },
    "tags": []
   },
   "source": [
    "### Decision Tree Regressor"
   ]
  },
  {
   "cell_type": "code",
   "execution_count": 53,
   "id": "c7b31fe5",
   "metadata": {
    "execution": {
     "iopub.execute_input": "2023-02-21T06:45:15.320813Z",
     "iopub.status.busy": "2023-02-21T06:45:15.320483Z",
     "iopub.status.idle": "2023-02-21T06:45:15.973190Z",
     "shell.execute_reply": "2023-02-21T06:45:15.972109Z"
    },
    "papermill": {
     "duration": 0.681528,
     "end_time": "2023-02-21T06:45:15.975450",
     "exception": false,
     "start_time": "2023-02-21T06:45:15.293922",
     "status": "completed"
    },
    "tags": []
   },
   "outputs": [
    {
     "data": {
      "text/plain": [
       "DecisionTreeRegressor()"
      ]
     },
     "execution_count": 53,
     "metadata": {},
     "output_type": "execute_result"
    }
   ],
   "source": [
    "from sklearn.tree import DecisionTreeRegressor\n",
    "\n",
    "DT = DecisionTreeRegressor()\n",
    "DT.fit(x_train, y_train)"
   ]
  },
  {
   "cell_type": "code",
   "execution_count": 54,
   "id": "e40a0f58",
   "metadata": {
    "execution": {
     "iopub.execute_input": "2023-02-21T06:45:16.030098Z",
     "iopub.status.busy": "2023-02-21T06:45:16.029235Z",
     "iopub.status.idle": "2023-02-21T06:45:16.045556Z",
     "shell.execute_reply": "2023-02-21T06:45:16.044691Z"
    },
    "papermill": {
     "duration": 0.045856,
     "end_time": "2023-02-21T06:45:16.047569",
     "exception": false,
     "start_time": "2023-02-21T06:45:16.001713",
     "status": "completed"
    },
    "tags": []
   },
   "outputs": [],
   "source": [
    "DTpreds = DT.predict(x_test)"
   ]
  },
  {
   "cell_type": "code",
   "execution_count": 55,
   "id": "5533a74f",
   "metadata": {
    "execution": {
     "iopub.execute_input": "2023-02-21T06:45:16.109728Z",
     "iopub.status.busy": "2023-02-21T06:45:16.109341Z",
     "iopub.status.idle": "2023-02-21T06:45:16.153347Z",
     "shell.execute_reply": "2023-02-21T06:45:16.151848Z"
    },
    "papermill": {
     "duration": 0.073599,
     "end_time": "2023-02-21T06:45:16.156012",
     "exception": false,
     "start_time": "2023-02-21T06:45:16.082413",
     "status": "completed"
    },
    "tags": []
   },
   "outputs": [
    {
     "name": "stdout",
     "output_type": "stream",
     "text": [
      "Training set score: 1.00\n",
      "Test set score: 0.9905335\n"
     ]
    }
   ],
   "source": [
    "print(\"Training set score: {:.2f}\".format(DT.score(x_train, y_train)))\n",
    "print(\"Test set score: {:.7f}\".format(DT.score(x_test, y_test)))"
   ]
  },
  {
   "cell_type": "code",
   "execution_count": 56,
   "id": "c0783772",
   "metadata": {
    "execution": {
     "iopub.execute_input": "2023-02-21T06:45:16.211370Z",
     "iopub.status.busy": "2023-02-21T06:45:16.210966Z",
     "iopub.status.idle": "2023-02-21T06:45:16.221270Z",
     "shell.execute_reply": "2023-02-21T06:45:16.220435Z"
    },
    "papermill": {
     "duration": 0.039584,
     "end_time": "2023-02-21T06:45:16.223275",
     "exception": false,
     "start_time": "2023-02-21T06:45:16.183691",
     "status": "completed"
    },
    "tags": []
   },
   "outputs": [],
   "source": [
    "MAE_DT= metrics.mean_absolute_error(y_test, DTpreds)\n",
    "MSE_DT= metrics.mean_squared_error(y_test, DTpreds)\n",
    "RMSE_DT= np.sqrt(metrics.mean_squared_error(y_test, DTpreds))\n",
    "r2_DT=r2_score(y_test, DTpreds)\n",
    "Adj_r2_DT=1-(1-r2_score(y_test, DTpreds))*((len(x_test)-1)/(len(x_test)-len(x_test[0])-1))"
   ]
  },
  {
   "cell_type": "code",
   "execution_count": 57,
   "id": "e7fbe9f4",
   "metadata": {
    "execution": {
     "iopub.execute_input": "2023-02-21T06:45:16.276909Z",
     "iopub.status.busy": "2023-02-21T06:45:16.276051Z",
     "iopub.status.idle": "2023-02-21T06:45:16.282868Z",
     "shell.execute_reply": "2023-02-21T06:45:16.281449Z"
    },
    "papermill": {
     "duration": 0.036091,
     "end_time": "2023-02-21T06:45:16.285364",
     "exception": false,
     "start_time": "2023-02-21T06:45:16.249273",
     "status": "completed"
    },
    "tags": []
   },
   "outputs": [
    {
     "name": "stdout",
     "output_type": "stream",
     "text": [
      "Mean absolute error of decision tree 0.006680759275284765\n",
      "Mean square  error of decision tree 0.009527822723673947\n",
      "root Mean square error of decision tree 0.09761056665993671\n",
      "r2 score of decision tree 0.9905335054768284\n",
      "adjusted r2 of decision tree 0.9905323146800044\n"
     ]
    }
   ],
   "source": [
    "print('Mean absolute error of decision tree',MAE_DT)\n",
    "print('Mean square  error of decision tree',MSE_DT)\n",
    "print('root Mean square error of decision tree',RMSE_DT)\n",
    "print('r2 score of decision tree',r2_DT)\n",
    "print('adjusted r2 of decision tree',Adj_r2_DT)"
   ]
  },
  {
   "cell_type": "markdown",
   "id": "7c9ce592",
   "metadata": {
    "papermill": {
     "duration": 0.025786,
     "end_time": "2023-02-21T06:45:16.338117",
     "exception": false,
     "start_time": "2023-02-21T06:45:16.312331",
     "status": "completed"
    },
    "tags": []
   },
   "source": [
    "### Random Forest regressor"
   ]
  },
  {
   "cell_type": "code",
   "execution_count": 58,
   "id": "fcce9412",
   "metadata": {
    "execution": {
     "iopub.execute_input": "2023-02-21T06:45:16.391803Z",
     "iopub.status.busy": "2023-02-21T06:45:16.390893Z",
     "iopub.status.idle": "2023-02-21T06:45:56.959334Z",
     "shell.execute_reply": "2023-02-21T06:45:56.958357Z"
    },
    "papermill": {
     "duration": 40.621678,
     "end_time": "2023-02-21T06:45:56.985567",
     "exception": false,
     "start_time": "2023-02-21T06:45:16.363889",
     "status": "completed"
    },
    "tags": []
   },
   "outputs": [
    {
     "name": "stderr",
     "output_type": "stream",
     "text": [
      "/opt/conda/lib/python3.7/site-packages/ipykernel_launcher.py:4: DataConversionWarning: A column-vector y was passed when a 1d array was expected. Please change the shape of y to (n_samples,), for example using ravel().\n",
      "  after removing the cwd from sys.path.\n"
     ]
    },
    {
     "data": {
      "text/plain": [
       "RandomForestRegressor()"
      ]
     },
     "execution_count": 58,
     "metadata": {},
     "output_type": "execute_result"
    }
   ],
   "source": [
    "from sklearn.ensemble import RandomForestRegressor\n",
    "\n",
    "RF = RandomForestRegressor()\n",
    "RF.fit(x_train, y_train)"
   ]
  },
  {
   "cell_type": "code",
   "execution_count": 59,
   "id": "dea567aa",
   "metadata": {
    "execution": {
     "iopub.execute_input": "2023-02-21T06:45:57.038807Z",
     "iopub.status.busy": "2023-02-21T06:45:57.037843Z",
     "iopub.status.idle": "2023-02-21T06:45:58.027732Z",
     "shell.execute_reply": "2023-02-21T06:45:58.026648Z"
    },
    "papermill": {
     "duration": 1.019204,
     "end_time": "2023-02-21T06:45:58.030423",
     "exception": false,
     "start_time": "2023-02-21T06:45:57.011219",
     "status": "completed"
    },
    "tags": []
   },
   "outputs": [],
   "source": [
    "RFpreds = RF.predict(x_test)"
   ]
  },
  {
   "cell_type": "code",
   "execution_count": 60,
   "id": "358431e9",
   "metadata": {
    "execution": {
     "iopub.execute_input": "2023-02-21T06:45:58.087845Z",
     "iopub.status.busy": "2023-02-21T06:45:58.086192Z",
     "iopub.status.idle": "2023-02-21T06:46:01.312485Z",
     "shell.execute_reply": "2023-02-21T06:46:01.311473Z"
    },
    "papermill": {
     "duration": 3.256797,
     "end_time": "2023-02-21T06:46:01.315144",
     "exception": false,
     "start_time": "2023-02-21T06:45:58.058347",
     "status": "completed"
    },
    "tags": []
   },
   "outputs": [
    {
     "name": "stdout",
     "output_type": "stream",
     "text": [
      "Training set score: 1.00\n",
      "Test set score: 0.9979966\n"
     ]
    }
   ],
   "source": [
    "print(\"Training set score: {:.2f}\".format(RF.score(x_train, y_train)))\n",
    "print(\"Test set score: {:.7f}\".format(RF.score(x_test, y_test)))"
   ]
  },
  {
   "cell_type": "code",
   "execution_count": 61,
   "id": "2a9ad447",
   "metadata": {
    "execution": {
     "iopub.execute_input": "2023-02-21T06:46:01.368360Z",
     "iopub.status.busy": "2023-02-21T06:46:01.368035Z",
     "iopub.status.idle": "2023-02-21T06:46:01.378356Z",
     "shell.execute_reply": "2023-02-21T06:46:01.377505Z"
    },
    "papermill": {
     "duration": 0.039156,
     "end_time": "2023-02-21T06:46:01.380371",
     "exception": false,
     "start_time": "2023-02-21T06:46:01.341215",
     "status": "completed"
    },
    "tags": []
   },
   "outputs": [],
   "source": [
    "MAE_RF= metrics.mean_absolute_error(y_test, RFpreds)\n",
    "MSE_RF= metrics.mean_squared_error(y_test, RFpreds)\n",
    "RMSE_RF= np.sqrt(metrics.mean_squared_error(y_test, RFpreds))\n",
    "r2_RF=r2_score(y_test, RFpreds)\n",
    "Adj_r2_RF=1-(1-r2_score(y_test, RFpreds))*((len(x_test)-1)/(len(x_test)-len(x_test[0])-1))"
   ]
  },
  {
   "cell_type": "code",
   "execution_count": 62,
   "id": "787aad64",
   "metadata": {
    "execution": {
     "iopub.execute_input": "2023-02-21T06:46:01.433581Z",
     "iopub.status.busy": "2023-02-21T06:46:01.432714Z",
     "iopub.status.idle": "2023-02-21T06:46:01.439289Z",
     "shell.execute_reply": "2023-02-21T06:46:01.437917Z"
    },
    "papermill": {
     "duration": 0.035081,
     "end_time": "2023-02-21T06:46:01.441300",
     "exception": false,
     "start_time": "2023-02-21T06:46:01.406219",
     "status": "completed"
    },
    "scrolled": true,
    "tags": []
   },
   "outputs": [
    {
     "name": "stdout",
     "output_type": "stream",
     "text": [
      "Mean absolute error of random forest 0.00328362949829837\n",
      "Mean square  error of random forest 0.0020163551993890704\n",
      "root Mean square error of random forest 0.04490384392665143\n",
      "r2 score of random forest 0.9979966235723134\n",
      "adjusted r2 of random forest 0.9979963715662217\n"
     ]
    }
   ],
   "source": [
    "print('Mean absolute error of random forest',MAE_RF)\n",
    "print('Mean square  error of random forest',MSE_RF)\n",
    "print('root Mean square error of random forest',RMSE_RF)\n",
    "print('r2 score of random forest',r2_RF)\n",
    "print('adjusted r2 of random forest',Adj_r2_RF)"
   ]
  },
  {
   "cell_type": "markdown",
   "id": "e77a856c",
   "metadata": {
    "papermill": {
     "duration": 0.025804,
     "end_time": "2023-02-21T06:46:01.492810",
     "exception": false,
     "start_time": "2023-02-21T06:46:01.467006",
     "status": "completed"
    },
    "tags": []
   },
   "source": [
    "# Boosting"
   ]
  },
  {
   "cell_type": "code",
   "execution_count": 63,
   "id": "3ea83b19",
   "metadata": {
    "execution": {
     "iopub.execute_input": "2023-02-21T06:46:01.546341Z",
     "iopub.status.busy": "2023-02-21T06:46:01.545444Z",
     "iopub.status.idle": "2023-02-21T06:46:01.550307Z",
     "shell.execute_reply": "2023-02-21T06:46:01.549274Z"
    },
    "papermill": {
     "duration": 0.03361,
     "end_time": "2023-02-21T06:46:01.552325",
     "exception": false,
     "start_time": "2023-02-21T06:46:01.518715",
     "status": "completed"
    },
    "tags": []
   },
   "outputs": [],
   "source": [
    "from sklearn.ensemble import GradientBoostingRegressor, AdaBoostRegressor"
   ]
  },
  {
   "cell_type": "markdown",
   "id": "35f07f19",
   "metadata": {
    "papermill": {
     "duration": 0.025645,
     "end_time": "2023-02-21T06:46:01.603531",
     "exception": false,
     "start_time": "2023-02-21T06:46:01.577886",
     "status": "completed"
    },
    "tags": []
   },
   "source": [
    "## Gradient Boosting"
   ]
  },
  {
   "cell_type": "code",
   "execution_count": 64,
   "id": "5c668f6c",
   "metadata": {
    "execution": {
     "iopub.execute_input": "2023-02-21T06:46:01.660262Z",
     "iopub.status.busy": "2023-02-21T06:46:01.659308Z",
     "iopub.status.idle": "2023-02-21T06:46:17.767087Z",
     "shell.execute_reply": "2023-02-21T06:46:17.766077Z"
    },
    "papermill": {
     "duration": 16.13712,
     "end_time": "2023-02-21T06:46:17.769557",
     "exception": false,
     "start_time": "2023-02-21T06:46:01.632437",
     "status": "completed"
    },
    "tags": []
   },
   "outputs": [
    {
     "name": "stderr",
     "output_type": "stream",
     "text": [
      "/opt/conda/lib/python3.7/site-packages/sklearn/ensemble/_gb.py:494: DataConversionWarning: A column-vector y was passed when a 1d array was expected. Please change the shape of y to (n_samples, ), for example using ravel().\n",
      "  y = column_or_1d(y, warn=True)\n"
     ]
    }
   ],
   "source": [
    "gbr = GradientBoostingRegressor(random_state = 42)\n",
    "gbr.fit(x_train, y_train)\n",
    "predictions_gbr = gbr.predict(x_test)"
   ]
  },
  {
   "cell_type": "code",
   "execution_count": 65,
   "id": "00d6a9eb",
   "metadata": {
    "execution": {
     "iopub.execute_input": "2023-02-21T06:46:17.825293Z",
     "iopub.status.busy": "2023-02-21T06:46:17.824953Z",
     "iopub.status.idle": "2023-02-21T06:46:18.069645Z",
     "shell.execute_reply": "2023-02-21T06:46:18.068359Z"
    },
    "papermill": {
     "duration": 0.275339,
     "end_time": "2023-02-21T06:46:18.071982",
     "exception": false,
     "start_time": "2023-02-21T06:46:17.796643",
     "status": "completed"
    },
    "tags": []
   },
   "outputs": [
    {
     "name": "stdout",
     "output_type": "stream",
     "text": [
      "Training set score: 1.00\n",
      "Test set score: 0.9966091\n"
     ]
    }
   ],
   "source": [
    "print(\"Training set score: {:.2f}\".format(gbr.score(x_train, y_train)))\n",
    "print(\"Test set score: {:.7f}\".format(gbr.score(x_test, y_test)))"
   ]
  },
  {
   "cell_type": "code",
   "execution_count": 66,
   "id": "856dd179",
   "metadata": {
    "execution": {
     "iopub.execute_input": "2023-02-21T06:46:18.127974Z",
     "iopub.status.busy": "2023-02-21T06:46:18.127654Z",
     "iopub.status.idle": "2023-02-21T06:46:18.138192Z",
     "shell.execute_reply": "2023-02-21T06:46:18.137296Z"
    },
    "papermill": {
     "duration": 0.040477,
     "end_time": "2023-02-21T06:46:18.140229",
     "exception": false,
     "start_time": "2023-02-21T06:46:18.099752",
     "status": "completed"
    },
    "tags": []
   },
   "outputs": [],
   "source": [
    "MAE_GBR= metrics.mean_absolute_error(y_test, predictions_gbr)\n",
    "MSE_GBR= metrics.mean_squared_error(y_test, predictions_gbr)\n",
    "RMSE_GBR= np.sqrt(metrics.mean_squared_error(y_test, predictions_gbr))\n",
    "r2_GBR=r2_score(y_test, predictions_gbr)\n",
    "Adj_r2_GBR=1-(1-r2_score(y_test, predictions_gbr))*((len(x_test)-1)/(len(x_test)-len(x_test[0])-1))"
   ]
  },
  {
   "cell_type": "code",
   "execution_count": 67,
   "id": "45f2ac85",
   "metadata": {
    "execution": {
     "iopub.execute_input": "2023-02-21T06:46:18.194764Z",
     "iopub.status.busy": "2023-02-21T06:46:18.194468Z",
     "iopub.status.idle": "2023-02-21T06:46:18.199971Z",
     "shell.execute_reply": "2023-02-21T06:46:18.199046Z"
    },
    "papermill": {
     "duration": 0.03514,
     "end_time": "2023-02-21T06:46:18.202598",
     "exception": false,
     "start_time": "2023-02-21T06:46:18.167458",
     "status": "completed"
    },
    "tags": []
   },
   "outputs": [
    {
     "name": "stdout",
     "output_type": "stream",
     "text": [
      "Mean absolute error of gradient boosting regressor 0.029872330420472305\n",
      "Mean square  error of gradient boosting regressor 0.0034129008779245898\n",
      "root Mean square error of gradient boosting regressor 0.05842003832525779\n",
      "r2 score of gradient boosting regressor 0.9966090671073545\n",
      "adjusted r2 of gradient boosting regressor 0.9966086405595855\n"
     ]
    }
   ],
   "source": [
    "print('Mean absolute error of gradient boosting regressor',MAE_GBR)\n",
    "print('Mean square  error of gradient boosting regressor',MSE_GBR)\n",
    "print('root Mean square error of gradient boosting regressor',RMSE_GBR)\n",
    "print('r2 score of gradient boosting regressor',r2_GBR)\n",
    "print('adjusted r2 of gradient boosting regressor',Adj_r2_GBR)"
   ]
  },
  {
   "cell_type": "markdown",
   "id": "c1f303ae",
   "metadata": {
    "papermill": {
     "duration": 0.025944,
     "end_time": "2023-02-21T06:46:18.254883",
     "exception": false,
     "start_time": "2023-02-21T06:46:18.228939",
     "status": "completed"
    },
    "tags": []
   },
   "source": [
    "## XGBoost Classifier"
   ]
  },
  {
   "cell_type": "code",
   "execution_count": 68,
   "id": "79e3a7e6",
   "metadata": {
    "execution": {
     "iopub.execute_input": "2023-02-21T06:46:18.308784Z",
     "iopub.status.busy": "2023-02-21T06:46:18.307868Z",
     "iopub.status.idle": "2023-02-21T06:46:18.412942Z",
     "shell.execute_reply": "2023-02-21T06:46:18.411940Z"
    },
    "papermill": {
     "duration": 0.134484,
     "end_time": "2023-02-21T06:46:18.415480",
     "exception": false,
     "start_time": "2023-02-21T06:46:18.280996",
     "status": "completed"
    },
    "tags": []
   },
   "outputs": [],
   "source": [
    "from xgboost import XGBRegressor"
   ]
  },
  {
   "cell_type": "code",
   "execution_count": 69,
   "id": "3f49e15b",
   "metadata": {
    "execution": {
     "iopub.execute_input": "2023-02-21T06:46:18.469853Z",
     "iopub.status.busy": "2023-02-21T06:46:18.469540Z",
     "iopub.status.idle": "2023-02-21T06:46:29.858604Z",
     "shell.execute_reply": "2023-02-21T06:46:29.857686Z"
    },
    "papermill": {
     "duration": 11.419053,
     "end_time": "2023-02-21T06:46:29.861477",
     "exception": false,
     "start_time": "2023-02-21T06:46:18.442424",
     "status": "completed"
    },
    "tags": []
   },
   "outputs": [],
   "source": [
    "xgb = XGBRegressor(random_state = 42, scale_pos_weight = 1)\n",
    "xgb.fit(x_train, y_train)\n",
    "predictions_xgb = xgb.predict(x_test)"
   ]
  },
  {
   "cell_type": "code",
   "execution_count": 70,
   "id": "f5274ba7",
   "metadata": {
    "execution": {
     "iopub.execute_input": "2023-02-21T06:46:29.917683Z",
     "iopub.status.busy": "2023-02-21T06:46:29.917328Z",
     "iopub.status.idle": "2023-02-21T06:46:30.213242Z",
     "shell.execute_reply": "2023-02-21T06:46:30.211802Z"
    },
    "papermill": {
     "duration": 0.326298,
     "end_time": "2023-02-21T06:46:30.216334",
     "exception": false,
     "start_time": "2023-02-21T06:46:29.890036",
     "status": "completed"
    },
    "tags": []
   },
   "outputs": [
    {
     "name": "stdout",
     "output_type": "stream",
     "text": [
      "Training set score: 1.00\n",
      "Test set score: 0.9978147\n"
     ]
    }
   ],
   "source": [
    "print(\"Training set score: {:.2f}\".format(xgb.score(x_train, y_train)))\n",
    "print(\"Test set score: {:.7f}\".format(xgb.score(x_test, y_test)))"
   ]
  },
  {
   "cell_type": "code",
   "execution_count": 71,
   "id": "1ebdb82e",
   "metadata": {
    "execution": {
     "iopub.execute_input": "2023-02-21T06:46:30.272872Z",
     "iopub.status.busy": "2023-02-21T06:46:30.272535Z",
     "iopub.status.idle": "2023-02-21T06:46:30.282776Z",
     "shell.execute_reply": "2023-02-21T06:46:30.281918Z"
    },
    "papermill": {
     "duration": 0.03961,
     "end_time": "2023-02-21T06:46:30.284766",
     "exception": false,
     "start_time": "2023-02-21T06:46:30.245156",
     "status": "completed"
    },
    "tags": []
   },
   "outputs": [],
   "source": [
    "MAE_XGB= metrics.mean_absolute_error(y_test, predictions_xgb)\n",
    "MSE_XGB= metrics.mean_squared_error(y_test, predictions_xgb)\n",
    "RMSE_XGB= np.sqrt(metrics.mean_squared_error(y_test, predictions_xgb))\n",
    "r2_XGB=r2_score(y_test, predictions_xgb)\n",
    "Adj_r2_XGB=1-(1-r2_score(y_test, predictions_xgb))*((len(x_test)-1)/(len(x_test)-len(x_test[0])-1))"
   ]
  },
  {
   "cell_type": "code",
   "execution_count": 72,
   "id": "3b81d804",
   "metadata": {
    "execution": {
     "iopub.execute_input": "2023-02-21T06:46:30.339004Z",
     "iopub.status.busy": "2023-02-21T06:46:30.338034Z",
     "iopub.status.idle": "2023-02-21T06:46:30.344998Z",
     "shell.execute_reply": "2023-02-21T06:46:30.343395Z"
    },
    "papermill": {
     "duration": 0.036905,
     "end_time": "2023-02-21T06:46:30.347719",
     "exception": false,
     "start_time": "2023-02-21T06:46:30.310814",
     "status": "completed"
    },
    "tags": []
   },
   "outputs": [
    {
     "name": "stdout",
     "output_type": "stream",
     "text": [
      "Mean absolute error of XGB regressor 0.014764769122896143\n",
      "Mean square  error of XGB regressor 0.0021994386528932834\n",
      "root Mean square error of XGB regressor 0.04689817323620701\n",
      "r2 score of XGB regressor 0.99781471858099\n",
      "adjusted r2 of XGB regressor 0.9978144436929449\n"
     ]
    }
   ],
   "source": [
    "print('Mean absolute error of XGB regressor',MAE_XGB)\n",
    "print('Mean square  error of XGB regressor',MSE_XGB)\n",
    "print('root Mean square error of XGB regressor',RMSE_XGB)\n",
    "print('r2 score of XGB regressor',r2_XGB)\n",
    "print('adjusted r2 of XGB regressor',Adj_r2_XGB)"
   ]
  },
  {
   "cell_type": "code",
   "execution_count": null,
   "id": "a5990a3c",
   "metadata": {
    "papermill": {
     "duration": 0.025958,
     "end_time": "2023-02-21T06:46:30.400209",
     "exception": false,
     "start_time": "2023-02-21T06:46:30.374251",
     "status": "completed"
    },
    "tags": []
   },
   "outputs": [],
   "source": []
  },
  {
   "cell_type": "markdown",
   "id": "495bd7bc",
   "metadata": {
    "papermill": {
     "duration": 0.025791,
     "end_time": "2023-02-21T06:46:30.452147",
     "exception": false,
     "start_time": "2023-02-21T06:46:30.426356",
     "status": "completed"
    },
    "tags": []
   },
   "source": [
    "# Choosing the best models"
   ]
  },
  {
   "cell_type": "code",
   "execution_count": 73,
   "id": "c54d87ea",
   "metadata": {
    "execution": {
     "iopub.execute_input": "2023-02-21T06:46:30.505731Z",
     "iopub.status.busy": "2023-02-21T06:46:30.505364Z",
     "iopub.status.idle": "2023-02-21T06:46:30.512353Z",
     "shell.execute_reply": "2023-02-21T06:46:30.511307Z"
    },
    "papermill": {
     "duration": 0.036771,
     "end_time": "2023-02-21T06:46:30.514719",
     "exception": false,
     "start_time": "2023-02-21T06:46:30.477948",
     "status": "completed"
    },
    "tags": []
   },
   "outputs": [],
   "source": [
    "cols = ['Model', 'MSE', 'RMSE', 'R2_score','MAE','ADJ_r']\n",
    "\n",
    "# create a empty dataframe of the colums\n",
    "result_table = pd.DataFrame(columns = cols)"
   ]
  },
  {
   "cell_type": "code",
   "execution_count": 74,
   "id": "14a7f5bb",
   "metadata": {
    "execution": {
     "iopub.execute_input": "2023-02-21T06:46:30.569211Z",
     "iopub.status.busy": "2023-02-21T06:46:30.568313Z",
     "iopub.status.idle": "2023-02-21T06:46:30.574846Z",
     "shell.execute_reply": "2023-02-21T06:46:30.573991Z"
    },
    "papermill": {
     "duration": 0.036013,
     "end_time": "2023-02-21T06:46:30.576925",
     "exception": false,
     "start_time": "2023-02-21T06:46:30.540912",
     "status": "completed"
    },
    "tags": []
   },
   "outputs": [],
   "source": [
    "full_metrics = pd.Series({'Model': \"Linear Regression\", 'MSE': MSE_LR, 'RMSE' : RMSE_LR, 'R2_score' : r2_LR,'MAE':MAE_LR,'ADJ_r':Adj_r2_LR})"
   ]
  },
  {
   "cell_type": "code",
   "execution_count": 75,
   "id": "27273b54",
   "metadata": {
    "execution": {
     "iopub.execute_input": "2023-02-21T06:46:30.630750Z",
     "iopub.status.busy": "2023-02-21T06:46:30.630089Z",
     "iopub.status.idle": "2023-02-21T06:46:30.638828Z",
     "shell.execute_reply": "2023-02-21T06:46:30.637900Z"
    },
    "papermill": {
     "duration": 0.037869,
     "end_time": "2023-02-21T06:46:30.640828",
     "exception": false,
     "start_time": "2023-02-21T06:46:30.602959",
     "status": "completed"
    },
    "tags": []
   },
   "outputs": [],
   "source": [
    "result_table = result_table.append(full_metrics, ignore_index = True)"
   ]
  },
  {
   "cell_type": "code",
   "execution_count": 76,
   "id": "5572eab7",
   "metadata": {
    "execution": {
     "iopub.execute_input": "2023-02-21T06:46:30.694713Z",
     "iopub.status.busy": "2023-02-21T06:46:30.693953Z",
     "iopub.status.idle": "2023-02-21T06:46:30.699214Z",
     "shell.execute_reply": "2023-02-21T06:46:30.698417Z"
    },
    "papermill": {
     "duration": 0.033816,
     "end_time": "2023-02-21T06:46:30.701147",
     "exception": false,
     "start_time": "2023-02-21T06:46:30.667331",
     "status": "completed"
    },
    "tags": []
   },
   "outputs": [],
   "source": [
    "full_metrics = pd.Series({'Model': \"Decision Tree\", 'MSE': MSE_DT, 'RMSE' : RMSE_DT, 'R2_score' : r2_DT,'MAE':MAE_DT,'ADJ_r':Adj_r2_DT})"
   ]
  },
  {
   "cell_type": "code",
   "execution_count": 77,
   "id": "18ab7dc6",
   "metadata": {
    "execution": {
     "iopub.execute_input": "2023-02-21T06:46:30.754726Z",
     "iopub.status.busy": "2023-02-21T06:46:30.753850Z",
     "iopub.status.idle": "2023-02-21T06:46:30.761032Z",
     "shell.execute_reply": "2023-02-21T06:46:30.760133Z"
    },
    "papermill": {
     "duration": 0.03611,
     "end_time": "2023-02-21T06:46:30.763097",
     "exception": false,
     "start_time": "2023-02-21T06:46:30.726987",
     "status": "completed"
    },
    "tags": []
   },
   "outputs": [],
   "source": [
    "result_table = result_table.append(full_metrics, ignore_index = True)"
   ]
  },
  {
   "cell_type": "code",
   "execution_count": 78,
   "id": "77dee0f7",
   "metadata": {
    "execution": {
     "iopub.execute_input": "2023-02-21T06:46:30.818314Z",
     "iopub.status.busy": "2023-02-21T06:46:30.816879Z",
     "iopub.status.idle": "2023-02-21T06:46:30.822573Z",
     "shell.execute_reply": "2023-02-21T06:46:30.821713Z"
    },
    "papermill": {
     "duration": 0.03415,
     "end_time": "2023-02-21T06:46:30.824568",
     "exception": false,
     "start_time": "2023-02-21T06:46:30.790418",
     "status": "completed"
    },
    "tags": []
   },
   "outputs": [],
   "source": [
    "full_metrics = pd.Series({'Model': \"Random Forest\", 'MSE': MSE_RF, 'RMSE' : RMSE_RF, 'R2_score' : r2_RF,'MAE':MAE_RF,'ADJ_r':Adj_r2_RF})"
   ]
  },
  {
   "cell_type": "code",
   "execution_count": 79,
   "id": "08a05340",
   "metadata": {
    "execution": {
     "iopub.execute_input": "2023-02-21T06:46:30.878477Z",
     "iopub.status.busy": "2023-02-21T06:46:30.877638Z",
     "iopub.status.idle": "2023-02-21T06:46:30.884559Z",
     "shell.execute_reply": "2023-02-21T06:46:30.883759Z"
    },
    "papermill": {
     "duration": 0.035954,
     "end_time": "2023-02-21T06:46:30.886548",
     "exception": false,
     "start_time": "2023-02-21T06:46:30.850594",
     "status": "completed"
    },
    "tags": []
   },
   "outputs": [],
   "source": [
    "result_table = result_table.append(full_metrics, ignore_index = True)"
   ]
  },
  {
   "cell_type": "code",
   "execution_count": 80,
   "id": "ec44fa5d",
   "metadata": {
    "execution": {
     "iopub.execute_input": "2023-02-21T06:46:30.939737Z",
     "iopub.status.busy": "2023-02-21T06:46:30.939461Z",
     "iopub.status.idle": "2023-02-21T06:46:30.944279Z",
     "shell.execute_reply": "2023-02-21T06:46:30.943442Z"
    },
    "papermill": {
     "duration": 0.033387,
     "end_time": "2023-02-21T06:46:30.946293",
     "exception": false,
     "start_time": "2023-02-21T06:46:30.912906",
     "status": "completed"
    },
    "tags": []
   },
   "outputs": [],
   "source": [
    "full_metrics = pd.Series({'Model': \"Gardient Boosting\", 'MSE': MSE_GBR, 'RMSE' : RMSE_GBR, 'R2_score' : r2_GBR,'MAE':MAE_GBR,'ADJ_r':Adj_r2_GBR})"
   ]
  },
  {
   "cell_type": "code",
   "execution_count": 81,
   "id": "546243c0",
   "metadata": {
    "execution": {
     "iopub.execute_input": "2023-02-21T06:46:31.000878Z",
     "iopub.status.busy": "2023-02-21T06:46:30.999990Z",
     "iopub.status.idle": "2023-02-21T06:46:31.007338Z",
     "shell.execute_reply": "2023-02-21T06:46:31.006452Z"
    },
    "papermill": {
     "duration": 0.036576,
     "end_time": "2023-02-21T06:46:31.009315",
     "exception": false,
     "start_time": "2023-02-21T06:46:30.972739",
     "status": "completed"
    },
    "tags": []
   },
   "outputs": [],
   "source": [
    "result_table = result_table.append(full_metrics, ignore_index = True)"
   ]
  },
  {
   "cell_type": "code",
   "execution_count": 82,
   "id": "a18e62fc",
   "metadata": {
    "execution": {
     "iopub.execute_input": "2023-02-21T06:46:31.063916Z",
     "iopub.status.busy": "2023-02-21T06:46:31.063114Z",
     "iopub.status.idle": "2023-02-21T06:46:31.068559Z",
     "shell.execute_reply": "2023-02-21T06:46:31.067751Z"
    },
    "papermill": {
     "duration": 0.034196,
     "end_time": "2023-02-21T06:46:31.070514",
     "exception": false,
     "start_time": "2023-02-21T06:46:31.036318",
     "status": "completed"
    },
    "tags": []
   },
   "outputs": [],
   "source": [
    "full_metrics = pd.Series({'Model': \"XGBoost\", 'MSE': MSE_XGB, 'RMSE' : RMSE_XGB, 'R2_score' : r2_XGB,'MAE':MAE_XGB,'ADJ_r':Adj_r2_XGB})"
   ]
  },
  {
   "cell_type": "code",
   "execution_count": 83,
   "id": "13db99d2",
   "metadata": {
    "execution": {
     "iopub.execute_input": "2023-02-21T06:46:31.123954Z",
     "iopub.status.busy": "2023-02-21T06:46:31.123646Z",
     "iopub.status.idle": "2023-02-21T06:46:31.130990Z",
     "shell.execute_reply": "2023-02-21T06:46:31.130104Z"
    },
    "papermill": {
     "duration": 0.036386,
     "end_time": "2023-02-21T06:46:31.133078",
     "exception": false,
     "start_time": "2023-02-21T06:46:31.096692",
     "status": "completed"
    },
    "tags": []
   },
   "outputs": [],
   "source": [
    "result_table = result_table.append(full_metrics, ignore_index = True)"
   ]
  },
  {
   "cell_type": "code",
   "execution_count": 84,
   "id": "fd5a300d",
   "metadata": {
    "execution": {
     "iopub.execute_input": "2023-02-21T06:46:31.187551Z",
     "iopub.status.busy": "2023-02-21T06:46:31.186662Z",
     "iopub.status.idle": "2023-02-21T06:46:31.199486Z",
     "shell.execute_reply": "2023-02-21T06:46:31.198214Z"
    },
    "papermill": {
     "duration": 0.042053,
     "end_time": "2023-02-21T06:46:31.201847",
     "exception": false,
     "start_time": "2023-02-21T06:46:31.159794",
     "status": "completed"
    },
    "tags": []
   },
   "outputs": [
    {
     "data": {
      "text/html": [
       "<div>\n",
       "<style scoped>\n",
       "    .dataframe tbody tr th:only-of-type {\n",
       "        vertical-align: middle;\n",
       "    }\n",
       "\n",
       "    .dataframe tbody tr th {\n",
       "        vertical-align: top;\n",
       "    }\n",
       "\n",
       "    .dataframe thead th {\n",
       "        text-align: right;\n",
       "    }\n",
       "</style>\n",
       "<table border=\"1\" class=\"dataframe\">\n",
       "  <thead>\n",
       "    <tr style=\"text-align: right;\">\n",
       "      <th></th>\n",
       "      <th>Model</th>\n",
       "      <th>MSE</th>\n",
       "      <th>RMSE</th>\n",
       "      <th>R2_score</th>\n",
       "      <th>MAE</th>\n",
       "      <th>ADJ_r</th>\n",
       "    </tr>\n",
       "  </thead>\n",
       "  <tbody>\n",
       "    <tr>\n",
       "      <th>0</th>\n",
       "      <td>Linear Regression</td>\n",
       "      <td>0.108392</td>\n",
       "      <td>0.329229</td>\n",
       "      <td>0.892306</td>\n",
       "      <td>0.182559</td>\n",
       "      <td>0.892292</td>\n",
       "    </tr>\n",
       "    <tr>\n",
       "      <th>1</th>\n",
       "      <td>Decision Tree</td>\n",
       "      <td>0.009528</td>\n",
       "      <td>0.097611</td>\n",
       "      <td>0.990534</td>\n",
       "      <td>0.006681</td>\n",
       "      <td>0.990532</td>\n",
       "    </tr>\n",
       "    <tr>\n",
       "      <th>2</th>\n",
       "      <td>Random Forest</td>\n",
       "      <td>0.002016</td>\n",
       "      <td>0.044904</td>\n",
       "      <td>0.997997</td>\n",
       "      <td>0.003284</td>\n",
       "      <td>0.997996</td>\n",
       "    </tr>\n",
       "    <tr>\n",
       "      <th>3</th>\n",
       "      <td>Gardient Boosting</td>\n",
       "      <td>0.003413</td>\n",
       "      <td>0.058420</td>\n",
       "      <td>0.996609</td>\n",
       "      <td>0.029872</td>\n",
       "      <td>0.996609</td>\n",
       "    </tr>\n",
       "    <tr>\n",
       "      <th>4</th>\n",
       "      <td>XGBoost</td>\n",
       "      <td>0.002199</td>\n",
       "      <td>0.046898</td>\n",
       "      <td>0.997815</td>\n",
       "      <td>0.014765</td>\n",
       "      <td>0.997814</td>\n",
       "    </tr>\n",
       "  </tbody>\n",
       "</table>\n",
       "</div>"
      ],
      "text/plain": [
       "               Model       MSE      RMSE  R2_score       MAE     ADJ_r\n",
       "0  Linear Regression  0.108392  0.329229  0.892306  0.182559  0.892292\n",
       "1      Decision Tree  0.009528  0.097611  0.990534  0.006681  0.990532\n",
       "2      Random Forest  0.002016  0.044904  0.997997  0.003284  0.997996\n",
       "3  Gardient Boosting  0.003413  0.058420  0.996609  0.029872  0.996609\n",
       "4            XGBoost  0.002199  0.046898  0.997815  0.014765  0.997814"
      ]
     },
     "execution_count": 84,
     "metadata": {},
     "output_type": "execute_result"
    }
   ],
   "source": [
    "result_table"
   ]
  },
  {
   "cell_type": "markdown",
   "id": "dac47aee",
   "metadata": {
    "papermill": {
     "duration": 0.026302,
     "end_time": "2023-02-21T06:46:31.254863",
     "exception": false,
     "start_time": "2023-02-21T06:46:31.228561",
     "status": "completed"
    },
    "tags": []
   },
   "source": [
    "Based on the above, Random Forest produces the best results out of all tested models. However, hyperparameter tuning could help improve the results"
   ]
  }
 ],
 "metadata": {
  "kernelspec": {
   "display_name": "Python 3",
   "language": "python",
   "name": "python3"
  },
  "language_info": {
   "codemirror_mode": {
    "name": "ipython",
    "version": 3
   },
   "file_extension": ".py",
   "mimetype": "text/x-python",
   "name": "python",
   "nbconvert_exporter": "python",
   "pygments_lexer": "ipython3",
   "version": "3.7.12"
  },
  "papermill": {
   "default_parameters": {},
   "duration": 123.887639,
   "end_time": "2023-02-21T06:46:32.504434",
   "environment_variables": {},
   "exception": null,
   "input_path": "__notebook__.ipynb",
   "output_path": "__notebook__.ipynb",
   "parameters": {},
   "start_time": "2023-02-21T06:44:28.616795",
   "version": "2.3.4"
  }
 },
 "nbformat": 4,
 "nbformat_minor": 5
}
